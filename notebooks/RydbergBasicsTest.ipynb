{
 "cells": [
  {
   "cell_type": "code",
   "execution_count": 1,
   "id": "10191fa4-e8eb-4f22-8f7e-b8bdb56866c4",
   "metadata": {},
   "outputs": [],
   "source": [
    "%load_ext autoreload\n",
    "%autoreload 2\n",
    "\n",
    "import sys\n",
    "sys.path.append('../')\n",
    "\n",
    "import numpy as np\n",
    "import matplotlib.pyplot as plt\n",
    "import matplotlib as mpl\n",
    "# %matplotlib notebook\n",
    "# import ipympl\n",
    "%matplotlib widget\n",
    "\n",
    "import inspect\n",
    "\n",
    "import models.ac_stark as stark\n",
    "import models.rydberg_calcs as ryd\n",
    "import plotters.plot_ac_stark as pac\n",
    "\n",
    "from scipy.constants import c as C_c, h as C_h, k as C_k"
   ]
  },
  {
   "cell_type": "code",
   "execution_count": 14,
   "id": "5edf0db5-e5a1-4147-afd7-768f2a9ea448",
   "metadata": {},
   "outputs": [
    {
     "name": "stdout",
     "output_type": "stream",
     "text": [
      "15.096 -2.95 141.804 0.0\n",
      "108.62780491200216 277.9398886358618\n"
     ]
    }
   ],
   "source": [
    "from arc import Cesium as Cs\n",
    "cs = Cs()\n",
    "\n",
    "Pp = 1e-3\n",
    "wp = 25e-6\n",
    "qp = 1\n",
    "\n",
    "Pc = 1\n",
    "wc = 25e-6\n",
    "qc = -1\n",
    "\n",
    "Delta = np.array([0.5e9, 1e9, 2e9, 5e9, 10e9, 20e9])*2*np.pi #check units, seems like it wants rad/s\n",
    "Delta = 1e9*2*np.pi\n",
    "\n",
    "fg = 4\n",
    "mfg = 4\n",
    "\n",
    "ne = 7\n",
    "le = 1\n",
    "je = 3/2\n",
    "\n",
    "nr = 41\n",
    "lr = 0\n",
    "jr = 1/2\n",
    "mjr = 1/2\n",
    "\n",
    "OmegaR, ACg, ACr, Psc = cs.twoPhotonRydbergExcitation(Pp, wp, qp, Pc, wc, qc, Delta, fg, mfg, ne, le, je, nr, lr, jr, mjr)\n",
    "\n",
    "OmegaR, ACg, ACr, Psc = np.round(np.array([np.abs(OmegaR), ACg, ACr, Psc]) * 1e-6 / (2*np.pi), 3)\n",
    "Omega_p = np.sqrt(ACg*4* Delta / (2*np.pi) *1e-6)\n",
    "Omega_c = OmegaR / Omega_p * (Delta / (2*np.pi) *1e-6) * 2\n",
    "print(OmegaR, -ACg, ACr, Psc)\n",
    "\n",
    "print(Omega_p, Omega_c)\n",
    "\n",
    "# plt.figure()\n",
    "# plt.plot(Delta, np.sqrt(ACg*4* Delta / (2*np.pi) *1e-6))\n",
    "# plt.figure()\n",
    "# plt.plot(Delta, np.sqrt(ACr*4* Delta / (2*np.pi) *1e-6))"
   ]
  },
  {
   "cell_type": "code",
   "execution_count": 54,
   "id": "ef00ff46-1371-4ca2-b2c7-bb9cd6838227",
   "metadata": {},
   "outputs": [],
   "source": []
  },
  {
   "cell_type": "code",
   "execution_count": 57,
   "id": "db57ef14-53fa-401b-8552-9412fd3b9f49",
   "metadata": {},
   "outputs": [
    {
     "name": "stdout",
     "output_type": "stream",
     "text": [
      "-992233016.6285535 347640319.5826612 4818718361.714167 0.04013534823665278\n"
     ]
    }
   ],
   "source": []
  },
  {
   "cell_type": "code",
   "execution_count": 22,
   "id": "ffc396b7-e1e9-47dd-8047-e8e279f8bc22",
   "metadata": {},
   "outputs": [
    {
     "name": "stdout",
     "output_type": "stream",
     "text": [
      "Probe laser frequency (no AOM) 657932.3889647021 GHz\n",
      "Probe laser frequency (with AOM) 657932.6089647021 GHz\n",
      "Power Broadening $\\sqrt(2)*\\Omega = $ 440.3451306644454 MHz\n",
      "Natural Linewidth 7.709815102267814 MHz\n",
      "\n",
      "Couple laser frequency (no AOM) 281196.26994683413 GHz\n",
      "Couple laser frequency (with AOM) 281196.4899468341 GHz\n",
      "Power Broadening $\\sqrt(2)*\\Omega = $ 628.4152604495167 MHz\n",
      "Natural Linewidth 0.029168477861902423 MHz\n",
      "\n",
      "Optimal detuning 3.118835998346721 GHz \n",
      "\n",
      "Optimal probe frequency (with AOM) 657935.7278007006 GHz\n",
      "Optimal couple frequency (with AOM) 281193.37111083575 GHz\n",
      "\n",
      "Expected Rabi Frequency = 2*pi 22.181320220176822 MHz\n",
      "Pi Pulse Duration 22.54148964249587 ns\n"
     ]
    }
   ],
   "source": [
    "transition41 = ryd.RydbergTransition(laserWaist=probe_waist, laserWaist2=couple_waist, n1=6, l1=0, j1=0.5,\n",
    "                 mj1=0.5, n2=7, l2=1, j2=1.5, mj2=1.5, f2=5, q2=-1, n3=41, l3=0, j3=0.5, mj3=0.5, f3=4)\n",
    "\n",
    "params = transition41.print_laser_frequencies(Pp=probe_power, Pc=couple_power)\n",
    "probe_freq, couple_freq, two_photon_rabi, det, rabiFreq_1, rabiFreq_2 = params"
   ]
  },
  {
   "cell_type": "code",
   "execution_count": 23,
   "id": "d96ec6af-bc09-40ad-b8a7-d7738b5c22ae",
   "metadata": {},
   "outputs": [
    {
     "name": "stdout",
     "output_type": "stream",
     "text": [
      "1.0661442386334405e-06\n",
      "281193.1511108358\n",
      "657935.5078007005\n"
     ]
    }
   ],
   "source": [
    "def wavelength(frequency):\n",
    "    #Frequency in GHz\n",
    "    return C_c / frequency * 1e-9\n",
    "\n",
    "print(wavelength(couple_freq))\n",
    "print(couple_freq)\n",
    "print(probe_freq)"
   ]
  },
  {
   "cell_type": "code",
   "execution_count": 43,
   "id": "be4a3bdc-6824-4dce-823d-68caff57f49e",
   "metadata": {},
   "outputs": [
    {
     "ename": "ValueError",
     "evalue": "Target state [7, 1, 1.5, 1.5] not in states list",
     "output_type": "error",
     "traceback": [
      "\u001b[0;31m---------------------------------------------------------------------------\u001b[0m",
      "\u001b[0;31mValueError\u001b[0m                                Traceback (most recent call last)",
      "File \u001b[0;32m~/miniconda3/envs/mmwave-calc/lib/python3.12/site-packages/arc/calculations_atom_single.py:3501\u001b[0m, in \u001b[0;36mStarkBasisGenerator._defineBasisStates\u001b[0;34m(self, states_list)\u001b[0m\n\u001b[1;32m   3500\u001b[0m \u001b[38;5;28;01mtry\u001b[39;00m:\n\u001b[0;32m-> 3501\u001b[0m     \u001b[38;5;28mself\u001b[39m\u001b[38;5;241m.\u001b[39mindexOfCoupledState \u001b[38;5;241m=\u001b[39m states_list\u001b[38;5;241m.\u001b[39mindex(t_state)\n\u001b[1;32m   3502\u001b[0m \u001b[38;5;28;01mexcept\u001b[39;00m \u001b[38;5;167;01mValueError\u001b[39;00m:\n",
      "\u001b[0;31mValueError\u001b[0m: [7, 1, 1.5, 1.5] is not in list",
      "\nDuring handling of the above exception, another exception occurred:\n",
      "\u001b[0;31mValueError\u001b[0m                                Traceback (most recent call last)",
      "Cell \u001b[0;32mIn[43], line 3\u001b[0m\n\u001b[1;32m      1\u001b[0m \u001b[38;5;66;03m#Calculate light shifts from lambdas with \u001b[39;00m\n\u001b[1;32m      2\u001b[0m shift_calc \u001b[38;5;241m=\u001b[39m stark\u001b[38;5;241m.\u001b[39mACStarkShift(laserWaist\u001b[38;5;241m=\u001b[39mcouple_waist, n\u001b[38;5;241m=\u001b[39m\u001b[38;5;241m7\u001b[39m, l\u001b[38;5;241m=\u001b[39m\u001b[38;5;241m1\u001b[39m, j\u001b[38;5;241m=\u001b[39m\u001b[38;5;241m1.5\u001b[39m, mj\u001b[38;5;241m=\u001b[39m\u001b[38;5;241m1.5\u001b[39m, q\u001b[38;5;241m=\u001b[39m\u001b[38;5;241m1\u001b[39m)\n\u001b[0;32m----> 3\u001b[0m shift \u001b[38;5;241m=\u001b[39m shift_calc\u001b[38;5;241m.\u001b[39mac_stark_shift_shirley(wavelength(couple_freq), \u001b[38;5;241m2.8\u001b[39m)\n\u001b[1;32m      4\u001b[0m \u001b[38;5;28mprint\u001b[39m(shift \u001b[38;5;241m*\u001b[39m \u001b[38;5;241m1e-6\u001b[39m)\n\u001b[1;32m      5\u001b[0m \u001b[38;5;28mprint\u001b[39m(shift \u001b[38;5;241m*\u001b[39m C_h \u001b[38;5;241m/\u001b[39m C_k \u001b[38;5;241m*\u001b[39m \u001b[38;5;241m1e6\u001b[39m)\n",
      "File \u001b[0;32m~/Documents/Grad School/mmwave-calc/notebooks/../models/ac_stark.py:133\u001b[0m, in \u001b[0;36mACStarkShift.ac_stark_shift_shirley\u001b[0;34m(self, wavelengths, powers)\u001b[0m\n\u001b[1;32m    126\u001b[0m     full_basis \u001b[38;5;241m=\u001b[39m basis_local \u001b[38;5;241m+\u001b[39m ryd_basis_coupled\n\u001b[1;32m    127\u001b[0m     \u001b[38;5;66;03m# If our target state is highly-excited and we are looking at AC\u001b[39;00m\n\u001b[1;32m    128\u001b[0m     \u001b[38;5;66;03m# stark shifts near optical transitions, we need to include basis\u001b[39;00m\n\u001b[1;32m    129\u001b[0m     \u001b[38;5;66;03m# states near the ground state that are coupled by the optical\u001b[39;00m\n\u001b[1;32m    130\u001b[0m     \u001b[38;5;66;03m# transition, as well as those that are coupled by microwave\u001b[39;00m\n\u001b[1;32m    131\u001b[0m     \u001b[38;5;66;03m# transitions.\u001b[39;00m\n\u001b[1;32m    132\u001b[0m \u001b[38;5;66;03m# Define the final basis\u001b[39;00m\n\u001b[0;32m--> 133\u001b[0m calc_full\u001b[38;5;241m.\u001b[39mdefineBasis(\u001b[38;5;241m*\u001b[39m\u001b[38;5;28mself\u001b[39m\u001b[38;5;241m.\u001b[39mtarget_state, \u001b[38;5;28mself\u001b[39m\u001b[38;5;241m.\u001b[39mmj, \u001b[38;5;28mself\u001b[39m\u001b[38;5;241m.\u001b[39mq,\n\u001b[1;32m    134\u001b[0m                       basisStates\u001b[38;5;241m=\u001b[39mfull_basis,\n\u001b[1;32m    135\u001b[0m                       progressOutput\u001b[38;5;241m=\u001b[39m\u001b[38;5;28;01mFalse\u001b[39;00m)\n\u001b[1;32m    137\u001b[0m \u001b[38;5;66;03m# Define the Hamiltonian\u001b[39;00m\n\u001b[1;32m    138\u001b[0m calc_full\u001b[38;5;241m.\u001b[39mdefineShirleyHamiltonian(fn\u001b[38;5;241m=\u001b[39m\u001b[38;5;241m1\u001b[39m)\n",
      "File \u001b[0;32m~/miniconda3/envs/mmwave-calc/lib/python3.12/site-packages/arc/calculations_atom_single.py:3469\u001b[0m, in \u001b[0;36mStarkBasisGenerator.defineBasis\u001b[0;34m(self, n, l, j, mj, q, nMin, nMax, maxL, Bz, edN, basisStates, progressOutput, debugOutput, s)\u001b[0m\n\u001b[1;32m   3467\u001b[0m \u001b[38;5;66;03m# basis definition\u001b[39;00m\n\u001b[1;32m   3468\u001b[0m \u001b[38;5;28;01mif\u001b[39;00m basisStates \u001b[38;5;129;01mis\u001b[39;00m \u001b[38;5;129;01mnot\u001b[39;00m \u001b[38;5;28;01mNone\u001b[39;00m:\n\u001b[0;32m-> 3469\u001b[0m     \u001b[38;5;28mself\u001b[39m\u001b[38;5;241m.\u001b[39m_defineBasisStates(basisStates)\n\u001b[1;32m   3470\u001b[0m \u001b[38;5;28;01melif\u001b[39;00m nMin \u001b[38;5;129;01mis\u001b[39;00m \u001b[38;5;129;01mnot\u001b[39;00m \u001b[38;5;28;01mNone\u001b[39;00m \u001b[38;5;129;01mand\u001b[39;00m nMax \u001b[38;5;129;01mis\u001b[39;00m \u001b[38;5;129;01mnot\u001b[39;00m \u001b[38;5;28;01mNone\u001b[39;00m \u001b[38;5;129;01mand\u001b[39;00m maxL \u001b[38;5;129;01mis\u001b[39;00m \u001b[38;5;129;01mnot\u001b[39;00m \u001b[38;5;28;01mNone\u001b[39;00m:\n\u001b[1;32m   3471\u001b[0m     \u001b[38;5;66;03m# options to control automatically finding basis states\u001b[39;00m\n\u001b[1;32m   3472\u001b[0m     \u001b[38;5;28mself\u001b[39m\u001b[38;5;241m.\u001b[39mq \u001b[38;5;241m=\u001b[39m q\n",
      "File \u001b[0;32m~/miniconda3/envs/mmwave-calc/lib/python3.12/site-packages/arc/calculations_atom_single.py:3503\u001b[0m, in \u001b[0;36mStarkBasisGenerator._defineBasisStates\u001b[0;34m(self, states_list)\u001b[0m\n\u001b[1;32m   3501\u001b[0m     \u001b[38;5;28mself\u001b[39m\u001b[38;5;241m.\u001b[39mindexOfCoupledState \u001b[38;5;241m=\u001b[39m states_list\u001b[38;5;241m.\u001b[39mindex(t_state)\n\u001b[1;32m   3502\u001b[0m \u001b[38;5;28;01mexcept\u001b[39;00m \u001b[38;5;167;01mValueError\u001b[39;00m:\n\u001b[0;32m-> 3503\u001b[0m     \u001b[38;5;28;01mraise\u001b[39;00m \u001b[38;5;167;01mValueError\u001b[39;00m(\u001b[38;5;124mf\u001b[39m\u001b[38;5;124m\"\u001b[39m\u001b[38;5;124mTarget state \u001b[39m\u001b[38;5;132;01m{\u001b[39;00mt_state\u001b[38;5;132;01m}\u001b[39;00m\u001b[38;5;124m not in states list\u001b[39m\u001b[38;5;124m\"\u001b[39m)\n\u001b[1;32m   3504\u001b[0m \u001b[38;5;28mself\u001b[39m\u001b[38;5;241m.\u001b[39mtargetState \u001b[38;5;241m=\u001b[39m states_list[\u001b[38;5;28mself\u001b[39m\u001b[38;5;241m.\u001b[39mindexOfCoupledState]\n",
      "\u001b[0;31mValueError\u001b[0m: Target state [7, 1, 1.5, 1.5] not in states list"
     ]
    }
   ],
   "source": [
    "#Calculate light shifts from lambdas with \n",
    "shift_calc = stark.ACStarkShift(laserWaist=couple_waist, n=7, l=1, j=1.5, mj=1.5, q=1)\n",
    "shift = shift_calc.ac_stark_shift_shirley(wavelength(couple_freq), 2.8)\n",
    "print(shift * 1e-6)\n",
    "print(shift * C_h / C_k * 1e6)"
   ]
  },
  {
   "cell_type": "code",
   "execution_count": null,
   "id": "6b817184-c780-4992-aa4b-791ea919b56f",
   "metadata": {},
   "outputs": [],
   "source": []
  },
  {
   "cell_type": "code",
   "execution_count": null,
   "id": "8c32c956-46e1-4cf6-8545-c274251558b2",
   "metadata": {},
   "outputs": [],
   "source": []
  }
 ],
 "metadata": {
  "kernelspec": {
   "display_name": "Python 3 (ipykernel)",
   "language": "python",
   "name": "python3"
  },
  "language_info": {
   "codemirror_mode": {
    "name": "ipython",
    "version": 3
   },
   "file_extension": ".py",
   "mimetype": "text/x-python",
   "name": "python",
   "nbconvert_exporter": "python",
   "pygments_lexer": "ipython3",
   "version": "3.12.8"
  }
 },
 "nbformat": 4,
 "nbformat_minor": 5
}
