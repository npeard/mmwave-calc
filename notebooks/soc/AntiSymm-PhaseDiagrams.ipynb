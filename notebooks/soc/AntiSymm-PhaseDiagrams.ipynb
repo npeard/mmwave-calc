{
 "cells": [
  {
   "cell_type": "markdown",
   "metadata": {},
   "source": [
    "# Heisenberg Model\n"
   ]
  },
  {
   "cell_type": "markdown",
   "metadata": {},
   "source": [
    "##  Hamiltonian\n",
    "\n",
    "$\\quad$ Consider a 1D chain, with open boundary conditions, of $s=1$ spins interacting via an isotropic nearest-neighbor exchange $J$.\n",
    "\n",
    "The Hamiltonian is given by\n",
    "$$\n",
    "\\hat{\\mathcal{H}} = J \\sum_{j=1}^{N-1} \\hat{\\vec{S}}_j \\cdot \\hat{\\vec{S}}_{j+1},\n",
    "$$\n",
    "where $N$ is the number of spins and $\\hat{\\vec{S}}_j = (\\hat{S}^x_j, \\hat{S}^y_j, \\hat{S}^z_j)$ is the vector of spin-1 operators at site $j$.\n",
    "\n",
    "$\\quad$ Straightforward manipulation gives\n",
    "$$\n",
    "\\hat{\\mathcal{H}} = J \\sum_{j=1}^{N-1} \\left[ \\hat{S}^z_j \\hat{S}^z_{j+1} + \\frac{1}{2} \\left( \\hat{S}^+_j \\hat{S}^-_{j+1} + \\hat{S}^-_j \\hat{S}^+_{j+1} \\right) \\right],\n",
    "$$\n",
    "where $\\hat{S}^\\pm_j = \\hat{S}^x_j \\pm \\mathrm{i} \\hat{S}^y_j$ are the spin ladder operators.\n",
    "\n",
    "$\\quad$ In what follows, we consider the antiferromagnetic case, $J>0$. For simplicity, we set $J=1$."
   ]
  },
  {
   "cell_type": "markdown",
   "metadata": {},
   "source": [
    "## Spin 1 Operators\n",
    "    \n",
    "$\\quad$ The spin-1 operators can be explicitly written as    \n",
    "$$\n",
    "\\hat{S}^x_j = \\frac{1}{\\sqrt{2}} \\pmatrix{0 & 1 & 0 \\\\ 1 & 0 & 1 \\\\ 0 & 1 & 0} , \\quad\n",
    "\\hat{S}^y_j = \\frac{\\mathrm{i}}{\\sqrt{2}} \\pmatrix{0 & -1 & 0 \\\\ 1 & 0 & -1 \\\\ 0 & 1 & 0}, \\quad\n",
    "\\hat{S}^z_j = \\pmatrix{1 & 0 & 0 \\\\ 0 & 0 & 0 \\\\ 0 & 0 & -1},\n",
    "$$\n",
    "in the basis $\\{ |s^z_j\\rangle \\} = \\{ |+1\\rangle,|0\\rangle,|-1\\rangle \\}$. This leads to the following spin ladder operators:\n",
    "$$\n",
    "\\hat{S}^+_j = \\sqrt{2} \\pmatrix{0 & 1 & 0 \\\\ 0 & 0 & 1 \\\\ 0 & 0 & 0} , \\quad\n",
    "\\hat{S}^-_j = \\sqrt{2} \\pmatrix{0 & 0 & 0 \\\\ 1 & 0 & 0 \\\\ 0 & 1 & 0}.\n",
    "$$"
   ]
  },
  {
   "cell_type": "code",
   "execution_count": null,
   "metadata": {},
   "outputs": [],
   "source": [
    "import sys\n",
    "sys.path.append('../../')\n",
    "%load_ext autotime"
   ]
  },
  {
   "cell_type": "code",
   "execution_count": null,
   "metadata": {},
   "outputs": [],
   "source": [
    "from models.spin_chain import LatticeGraph, DMRGEngine\n",
    "import plotters.plot_spin_chain as psc\n",
    "import numpy as np\n",
    "import matplotlib.pyplot as plt"
   ]
  },
  {
   "cell_type": "code",
   "execution_count": null,
   "metadata": {},
   "outputs": [],
   "source": [
    "def plot_phase_diagram(im, extent=None):\n",
    "    # Create figure and plot\n",
    "    fig, ax = plt.subplots(figsize=(8, 6))\n",
    "\n",
    "    # Plot with proper extent to align grid with parameter values\n",
    "    im = ax.imshow(im, extent=extent,\n",
    "                  origin='lower', aspect='auto')\n",
    "\n",
    "    # Add labels and colorbar\n",
    "    cbar = fig.colorbar(im, ax=ax)\n",
    "    \n",
    "    plt.tight_layout()\n",
    "\n",
    "    return ax, cbar"
   ]
  },
  {
   "cell_type": "markdown",
   "metadata": {},
   "source": [
    "# Spin-1/2 DM Exchange Chain"
   ]
  },
  {
   "cell_type": "code",
   "execution_count": null,
   "metadata": {},
   "outputs": [],
   "source": [
    "# Define parameter space\n",
    "L = 10\n",
    "Jxy = np.linspace(-5, 5, 32)\n",
    "alpha = np.linspace(-5, 5, 32)"
   ]
  },
  {
   "cell_type": "code",
   "execution_count": null,
   "metadata": {},
   "outputs": [],
   "source": [
    "# Define S_perp^2 operator\n",
    "S_perp_sq_terms = [['xx', 1.0, 0], ['yy', 1.0, 0]]\n",
    "S_perp_sq_graph = LatticeGraph.from_interactions(L, S_perp_sq_terms, pbc=False)"
   ]
  },
  {
   "cell_type": "code",
   "execution_count": null,
   "metadata": {},
   "outputs": [],
   "source": [
    "# Setup DMRG computations\n",
    "# Note XY - YX = 1j*(PM - MP)\n",
    "terms_list = [ [['xx', J, 'nn'],\n",
    "                ['yy', J, 'nn'],\n",
    "                ['PM', 1j*a, 'nn'],\n",
    "                ['MP', -1j*a, 'nn']] for J in Jxy for a in alpha ]\n",
    "graph_list = [ LatticeGraph.from_interactions(L, terms, pbc=False) for terms in terms_list ]\n",
    "dmrg_list = [ DMRGEngine(graph, spin='1/2') for graph in graph_list ]"
   ]
  },
  {
   "cell_type": "code",
   "execution_count": null,
   "metadata": {},
   "outputs": [],
   "source": [
    "ax, cbar = psc.plot_phase_diagram(dmrg_list, Jxy=Jxy, alpha=alpha, observable_graph=S_perp_sq_graph, \n",
    "                                    observable_name=r'$S_{\\perp}^2$', normalize=lambda x: x / (L*(L+1)))"
   ]
  },
  {
   "cell_type": "markdown",
   "metadata": {},
   "source": [
    "# Spin-1 DM Exchange Chain"
   ]
  },
  {
   "cell_type": "code",
   "execution_count": null,
   "metadata": {},
   "outputs": [],
   "source": [
    "dmrg_list_spin_1 = [ DMRGEngine(graph, spin='1') for graph in graph_list ]"
   ]
  },
  {
   "cell_type": "code",
   "execution_count": null,
   "metadata": {},
   "outputs": [],
   "source": [
    "ax, cbar = psc.plot_phase_diagram(dmrg_list_spin_1, Jxy=Jxy, alpha=alpha, observable_graph=S_perp_sq_graph, \n",
    "                                    observable_name=r'$S_{\\perp}^2$', normalize=lambda x: x / (L*(L+1)))"
   ]
  },
  {
   "cell_type": "markdown",
   "metadata": {},
   "source": [
    "# Spin-1/2 XXZ2 Chain"
   ]
  },
  {
   "cell_type": "code",
   "execution_count": null,
   "metadata": {},
   "outputs": [],
   "source": [
    "# Define parameter space\n",
    "L = 10\n",
    "Jxy = np.linspace(-5, 5, 32)\n",
    "Q = np.linspace(-5, 5, 32)"
   ]
  },
  {
   "cell_type": "code",
   "execution_count": null,
   "metadata": {},
   "outputs": [],
   "source": [
    "# Setup DMRG computations\n",
    "terms_list = [ [['xx', J, 'nn'],\n",
    "                ['yy', J, 'nn'],\n",
    "                ['zz', q, np.inf]] for J in Jxy for q in Q ]\n",
    "graph_list = [ LatticeGraph.from_interactions(L, terms, pbc=False) for terms in terms_list ]\n",
    "dmrg_list = [ DMRGEngine(graph, spin='1/2') for graph in graph_list ]"
   ]
  },
  {
   "cell_type": "code",
   "execution_count": null,
   "metadata": {},
   "outputs": [],
   "source": [
    "ax, cbar = psc.plot_phase_diagram(dmrg_list, Jxy=Jxy, Q=Q, observable_graph=S_perp_sq_graph, \n",
    "                                    observable_name=r'$S_{\\perp}^2$', normalize=lambda x: x / (L*(L+1)))"
   ]
  },
  {
   "cell_type": "markdown",
   "metadata": {},
   "source": [
    "# Spin-1 XXZ2 Chain"
   ]
  },
  {
   "cell_type": "code",
   "execution_count": null,
   "metadata": {},
   "outputs": [],
   "source": [
    "dmrg_list_spin_1 = [ DMRGEngine(graph, spin='1') for graph in graph_list ]"
   ]
  },
  {
   "cell_type": "code",
   "execution_count": null,
   "metadata": {},
   "outputs": [],
   "source": [
    "ax, cbar = psc.plot_phase_diagram(dmrg_list_spin_1, Jxy=Jxy, Q=Q, observable_graph=S_perp_sq_graph, \n",
    "                                    observable_name=r'$S_{\\perp}^2$', normalize=lambda x: x / (L*(L+1)))"
   ]
  }
 ],
 "metadata": {
  "kernelspec": {
   "display_name": "Python 3",
   "language": "python",
   "name": "python3"
  },
  "language_info": {
   "codemirror_mode": {
    "name": "ipython",
    "version": 3
   },
   "file_extension": ".py",
   "mimetype": "text/x-python",
   "name": "python",
   "nbconvert_exporter": "python",
   "pygments_lexer": "ipython3",
   "version": "3.12.3"
  }
 },
 "nbformat": 4,
 "nbformat_minor": 2
}
