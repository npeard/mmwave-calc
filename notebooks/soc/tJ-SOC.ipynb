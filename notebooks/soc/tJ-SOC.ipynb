{
 "cells": [
  {
   "cell_type": "code",
   "execution_count": null,
   "id": "ad7a1a3e-a3f4-4576-955d-d150721c4903",
   "metadata": {},
   "outputs": [],
   "source": [
    "import numpy as np\n",
    "import matplotlib.pyplot as plt"
   ]
  },
  {
   "cell_type": "code",
   "execution_count": null,
   "id": "5d122c07-30b2-4626-8879-0abd52689fc0",
   "metadata": {},
   "outputs": [],
   "source": [
    "def helix_vector(site_index, a, c, num_sites):\n",
    "    x = 2*np.pi*a*np.cos(site_index)/(num_sites-1)\n",
    "    y = 2*np.pi*a*np.sin(site_index)/(num_sites-1)\n",
    "    z = c*(site_index)/(num_sites-1)\n",
    "\n",
    "    return np.asarray([x,y,z])"
   ]
  },
  {
   "cell_type": "code",
   "execution_count": null,
   "id": "b62cfb5b-066a-4dd5-8c07-e522c210fdf8",
   "metadata": {},
   "outputs": [],
   "source": [
    "def d_vector(site_index, s, a, c, num_sites):\n",
    "    r_i = helix_vector(site_index, a, c, num_sites)\n",
    "    r_is = helix_vector(site_index+s, a, c, num_sites)\n",
    "\n",
    "    d = r_i - r_is\n",
    "    d = d/np.sqrt(np.dot(d, d))\n",
    "\n",
    "    return d"
   ]
  },
  {
   "cell_type": "code",
   "execution_count": null,
   "id": "9259963b-0386-4408-92c8-8860cde6e378",
   "metadata": {},
   "outputs": [],
   "source": [
    "def v_vector(site_index, a, c, num_sites):\n",
    "    d1 = d_vector(site_index, 1, a, c, num_sites)\n",
    "    d2 = d_vector(site_index, 2, a, c, num_sites)\n",
    "\n",
    "    v = np.cross(d1, d2)\n",
    "\n",
    "    return v"
   ]
  },
  {
   "cell_type": "code",
   "execution_count": null,
   "id": "9d36c081-f78c-4aeb-9eee-8608efc34ae9",
   "metadata": {},
   "outputs": [],
   "source": [
    "def v_vector_array(a, c, num_sites):\n",
    "    v_list = []\n",
    "    for idx in range(num_sites):\n",
    "        v_list.append(v_vector(idx, a, c, num_sites))\n",
    "    v_array = np.asarray(v_list)\n",
    "\n",
    "    return v_array"
   ]
  },
  {
   "cell_type": "code",
   "execution_count": null,
   "id": "fc4c772a-b794-4fbe-86d7-fc7fcbf5bf79",
   "metadata": {},
   "outputs": [],
   "source": [
    "v_test = v_vector_array(1, 1, 20)\n",
    "site_idx = np.arange(0, 20, 1)\n",
    "print(v_test.shape)"
   ]
  },
  {
   "cell_type": "code",
   "execution_count": null,
   "id": "06a9f6b3-256d-4585-810b-35cd3e69258e",
   "metadata": {},
   "outputs": [],
   "source": [
    "fig, ax1 = plt.subplots(nrows=1)\n",
    "ax1.plot(site_idx, v_test[:, 0], label=\"x component\")\n",
    "ax1.plot(site_idx, v_test[:, 1], label=\"y component\")\n",
    "ax1.plot(site_idx, v_test[:, 2], label=\"z component\")\n",
    "ax1.legend()\n",
    "plt.tight_layout()\n",
    "plt.show()"
   ]
  },
  {
   "cell_type": "code",
   "execution_count": null,
   "id": "af7251e4-88b5-4ca1-b7e7-a11035d2b28a",
   "metadata": {},
   "outputs": [],
   "source": []
  }
 ],
 "metadata": {
  "kernelspec": {
   "display_name": "Python 3 (ipykernel)",
   "language": "python",
   "name": "python3"
  },
  "language_info": {
   "codemirror_mode": {
    "name": "ipython",
    "version": 3
   },
   "file_extension": ".py",
   "mimetype": "text/x-python",
   "name": "python",
   "nbconvert_exporter": "python",
   "pygments_lexer": "ipython3",
   "version": "3.12.3"
  }
 },
 "nbformat": 4,
 "nbformat_minor": 5
}
