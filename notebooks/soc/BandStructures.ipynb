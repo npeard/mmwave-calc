{
 "cells": [
  {
   "cell_type": "code",
   "execution_count": null,
   "metadata": {},
   "outputs": [],
   "source": [
    "import sys\n",
    "sys.path.append('../../')\n",
    "%load_ext autotime"
   ]
  },
  {
   "cell_type": "code",
   "execution_count": null,
   "metadata": {},
   "outputs": [],
   "source": [
    "from models.spin_chain import LatticeGraph, DMRGEngine\n",
    "import plotters.plot_spin_chain as psc\n",
    "import numpy as np\n",
    "import matplotlib.pyplot as plt"
   ]
  },
  {
   "cell_type": "code",
   "execution_count": null,
   "metadata": {},
   "outputs": [],
   "source": [
    "J = 1; alpha = 1; L = 4\n",
    "\n",
    "def fourier_J(k, i, j):\n",
    "        return J*np.exp(1j * k * (i - j))\n",
    "\n",
    "def fourier_alpha_plus(k, i, j):\n",
    "        return 1j*alpha*np.exp(1j * k * (i - j))\n",
    "\n",
    "def fourier_alpha_minus(k, i, j):\n",
    "        return -1j*alpha*np.exp(1j * k * (i - j))"
   ]
  },
  {
   "cell_type": "code",
   "execution_count": null,
   "metadata": {},
   "outputs": [],
   "source": [
    "# Setup DMRG computations\n",
    "# Note XY - YX = 1j*(PM - MP)\n",
    "terms = [['xx', fourier_J, 0],\n",
    "        ['yy', fourier_J, 0],\n",
    "        ['PM', fourier_alpha_plus, 0],\n",
    "        ['MP', fourier_alpha_minus, 0]] \n",
    "graph = LatticeGraph.from_interactions(L, terms, pbc=False)\n",
    "print(graph(0))"
   ]
  },
  {
   "cell_type": "code",
   "execution_count": null,
   "metadata": {},
   "outputs": [],
   "source": [
    "k = np.linspace(-np.pi, np.pi, 5)\n",
    "dmrg_list = [ DMRGEngine(LatticeGraph(L, graph(k)), spin='1/2') for k in k ]\n",
    "energy_list = []\n",
    "for dmrg in dmrg_list:\n",
    "    energy, _ = dmrg.compute_energies_mps(bond_dims=[8], n_roots=1)\n",
    "    print(energy)\n",
    "    energy_list.append(energy)\n",
    "energies = np.array(energy_list)"
   ]
  },
  {
   "cell_type": "code",
   "execution_count": null,
   "metadata": {},
   "outputs": [],
   "source": []
  }
 ],
 "metadata": {
  "kernelspec": {
   "display_name": "Python 3",
   "language": "python",
   "name": "python3"
  },
  "language_info": {
   "codemirror_mode": {
    "name": "ipython",
    "version": 3
   },
   "file_extension": ".py",
   "mimetype": "text/x-python",
   "name": "python",
   "nbconvert_exporter": "python",
   "pygments_lexer": "ipython3",
   "version": "3.12.3"
  }
 },
 "nbformat": 4,
 "nbformat_minor": 2
}
