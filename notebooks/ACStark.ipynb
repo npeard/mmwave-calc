{
 "cells": [
  {
   "cell_type": "code",
   "execution_count": null,
   "id": "92378f49-1892-499b-97e4-813191e34640",
   "metadata": {},
   "outputs": [],
   "source": [
    "import sys\n",
    "sys.path.append('../')\n",
    "%load_ext autotime"
   ]
  },
  {
   "cell_type": "code",
   "execution_count": null,
   "id": "b5ae22e1-bfb8-424d-ab09-fd5e2a157247",
   "metadata": {},
   "outputs": [],
   "source": [
    "import plotters.plot_ac_stark as pac"
   ]
  },
  {
   "cell_type": "code",
   "execution_count": null,
   "id": "a28688ac-fd7d-4f2f-af1b-7f67380095b7",
   "metadata": {},
   "outputs": [],
   "source": [
    "pac.plot_Cs_ground_state_tweezer_shift()"
   ]
  },
  {
   "cell_type": "code",
   "execution_count": null,
   "id": "e42e175d-896a-44cb-bc57-d2709b08c271",
   "metadata": {},
   "outputs": [],
   "source": [
    "pac.plot_Cs_7p_tweezer_shift()"
   ]
  },
  {
   "cell_type": "code",
   "execution_count": null,
   "id": "270b4be4-8b06-4a3c-9736-2e1dc717ca3d",
   "metadata": {},
   "outputs": [],
   "source": [
    "pac.plot_Cs_Rydberg_local_address_shift(n=40)"
   ]
  },
  {
   "cell_type": "code",
   "execution_count": null,
   "id": "aa1481042afcb85f",
   "metadata": {},
   "outputs": [],
   "source": [
    "pac.plot_Cs_Rydberg_local_address_shift(n=41)\n"
   ]
  },
  {
   "cell_type": "code",
   "execution_count": null,
   "id": "3e9b78cb5df3c335",
   "metadata": {},
   "outputs": [],
   "source": []
  }
 ],
 "metadata": {
  "language_info": {
   "name": "python"
  }
 },
 "nbformat": 4,
 "nbformat_minor": 5
}
