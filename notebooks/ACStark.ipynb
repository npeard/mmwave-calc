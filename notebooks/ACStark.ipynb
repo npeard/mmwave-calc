{
 "cells": [
  {
   "cell_type": "code",
   "execution_count": 1,
   "id": "92378f49-1892-499b-97e4-813191e34640",
   "metadata": {},
   "outputs": [
    {
     "name": "stdout",
     "output_type": "stream",
     "text": [
      "time: 104 μs (started: 2025-02-04 15:27:10 -08:00)\n"
     ]
    }
   ],
   "source": [
    "import sys\n",
    "sys.path.append('../')\n",
    "%load_ext autotime"
   ]
  },
  {
   "cell_type": "code",
   "execution_count": 2,
   "id": "b5ae22e1-bfb8-424d-ab09-fd5e2a157247",
   "metadata": {},
   "outputs": [
    {
     "name": "stdout",
     "output_type": "stream",
     "text": [
      "time: 2.2 s (started: 2025-02-04 15:27:10 -08:00)\n"
     ]
    }
   ],
   "source": [
    "import models.ac_stark as stark\n",
    "import plotters.plot_ac_stark as pac"
   ]
  },
  {
   "cell_type": "code",
   "execution_count": 7,
   "id": "14ae2dbe",
   "metadata": {},
   "outputs": [
    {
     "name": "stdout",
     "output_type": "stream",
     "text": [
      "[[35, 1, np.float64(1.5), 1.5], [35, 2, np.float64(1.5), 1.5], [35, 2, np.float64(2.5), 1.5], [35, 3, np.float64(2.5), 1.5], [35, 3, np.float64(3.5), 1.5], [36, 1, np.float64(1.5), 1.5], [36, 2, np.float64(1.5), 1.5], [36, 2, np.float64(2.5), 1.5], [36, 3, np.float64(2.5), 1.5], [36, 3, np.float64(3.5), 1.5], [37, 1, np.float64(1.5), 1.5], [37, 2, np.float64(1.5), 1.5], [37, 2, np.float64(2.5), 1.5], [37, 3, np.float64(2.5), 1.5], [37, 3, np.float64(3.5), 1.5], [38, 1, np.float64(1.5), 1.5], [38, 2, np.float64(1.5), 1.5], [38, 2, np.float64(2.5), 1.5], [38, 3, np.float64(2.5), 1.5], [38, 3, np.float64(3.5), 1.5], [39, 1, np.float64(1.5), 1.5], [39, 2, np.float64(1.5), 1.5], [39, 2, np.float64(2.5), 1.5], [39, 3, np.float64(2.5), 1.5], [39, 3, np.float64(3.5), 1.5], [40, 1, np.float64(1.5), 1.5], [40, 2, np.float64(1.5), 1.5], [40, 2, np.float64(2.5), 1.5], [40, 3, np.float64(2.5), 1.5], [40, 3, np.float64(3.5), 1.5], [41, 1, np.float64(1.5), 1.5], [41, 2, np.float64(1.5), 1.5], [41, 2, np.float64(2.5), 1.5], [41, 3, np.float64(2.5), 1.5], [41, 3, np.float64(3.5), 1.5], [42, 1, np.float64(1.5), 1.5], [42, 2, np.float64(1.5), 1.5], [42, 2, np.float64(2.5), 1.5], [42, 3, np.float64(2.5), 1.5], [42, 3, np.float64(3.5), 1.5], [43, 1, np.float64(1.5), 1.5], [43, 2, np.float64(1.5), 1.5], [43, 2, np.float64(2.5), 1.5], [43, 3, np.float64(2.5), 1.5], [43, 3, np.float64(3.5), 1.5], [44, 1, np.float64(1.5), 1.5], [44, 2, np.float64(1.5), 1.5], [44, 2, np.float64(2.5), 1.5], [44, 3, np.float64(2.5), 1.5], [44, 3, np.float64(3.5), 1.5], [6, 1, np.float64(1.5), 1.5], [6, 2, np.float64(1.5), 1.5], [6, 2, np.float64(2.5), 1.5], [6, 3, np.float64(2.5), 1.5], [6, 3, np.float64(3.5), 1.5], [7, 1, np.float64(1.5), 1.5], [7, 2, np.float64(1.5), 1.5], [7, 2, np.float64(2.5), 1.5], [7, 3, np.float64(2.5), 1.5], [7, 3, np.float64(3.5), 1.5], [8, 1, np.float64(1.5), 1.5], [8, 2, np.float64(1.5), 1.5], [8, 2, np.float64(2.5), 1.5], [8, 3, np.float64(2.5), 1.5], [8, 3, np.float64(3.5), 1.5], [9, 1, np.float64(1.5), 1.5], [9, 2, np.float64(1.5), 1.5], [9, 2, np.float64(2.5), 1.5], [9, 3, np.float64(2.5), 1.5], [9, 3, np.float64(3.5), 1.5]]\n",
      "[[-3.1978314]]\n",
      "time: 3.48 s (started: 2025-02-04 15:29:32 -08:00)\n"
     ]
    }
   ],
   "source": [
    "# Define a target state and calculate the shift for given wavelength and power\n",
    "shift_calc = stark.ACStarkShift(n=40, l=1, j=1.5, mj=1.5, q=0)\n",
    "shift = shift_calc.ac_stark_shift_shirley(1066.14*1e-9, 2e-3)\n",
    "print(shift*1e-6) # in MHz"
   ]
  },
  {
   "cell_type": "code",
   "execution_count": null,
   "id": "a28688ac-fd7d-4f2f-af1b-7f67380095b7",
   "metadata": {},
   "outputs": [],
   "source": [
    "pac.plot_Cs_ground_state_tweezer_shift()"
   ]
  },
  {
   "cell_type": "code",
   "execution_count": null,
   "id": "e42e175d-896a-44cb-bc57-d2709b08c271",
   "metadata": {},
   "outputs": [],
   "source": [
    "pac.plot_Cs_7p_tweezer_shift()"
   ]
  },
  {
   "cell_type": "code",
   "execution_count": null,
   "id": "270b4be4-8b06-4a3c-9736-2e1dc717ca3d",
   "metadata": {},
   "outputs": [
    {
     "name": "stdout",
     "output_type": "stream",
     "text": [
      "[40, 0, 0.5]\n",
      "[40, 1, 0.5]\n",
      "[40, 1, 1.5]\n",
      "[40, 1, 1.5]\n",
      "[40, 2, 1.5]\n",
      "[40, 2, 2.5]\n",
      "[40, 2, 2.5]\n"
     ]
    }
   ],
   "source": [
    "pac.plot_Cs_Rydberg_local_address_shift(n=40)"
   ]
  },
  {
   "cell_type": "code",
   "execution_count": null,
   "id": "aa1481042afcb85f",
   "metadata": {},
   "outputs": [],
   "source": [
    "pac.plot_Cs_Rydberg_local_address_shift(n=41)\n"
   ]
  },
  {
   "cell_type": "code",
   "execution_count": null,
   "id": "3e9b78cb5df3c335",
   "metadata": {},
   "outputs": [],
   "source": []
  }
 ],
 "metadata": {
  "kernelspec": {
   "display_name": "Python 3 (ipykernel)",
   "language": "python",
   "name": "python3"
  },
  "language_info": {
   "codemirror_mode": {
    "name": "ipython",
    "version": 3
   },
   "file_extension": ".py",
   "mimetype": "text/x-python",
   "name": "python",
   "nbconvert_exporter": "python",
   "pygments_lexer": "ipython3",
   "version": "3.12.8"
  }
 },
 "nbformat": 4,
 "nbformat_minor": 5
}
