{
 "cells": [
  {
   "cell_type": "code",
   "execution_count": 65,
   "id": "ebf5c497-4069-4fc9-9879-247ce33101a8",
   "metadata": {},
   "outputs": [],
   "source": [
    "import sys\n",
    "sys.path.append('../')\n",
    "\n",
    "import numpy as np\n",
    "import inspect\n",
    "\n",
    "import models.ac_stark as stark\n",
    "import models.rydberg_calcs as ryd\n",
    "import plotters.plot_ac_stark as pac\n",
    "\n",
    "from scipy.constants import c as C_c, h as C_h, k as C_k, e as C_e\n",
    "from scipy.constants import physical_constants, pi, epsilon_0, hbar"
   ]
  },
  {
   "cell_type": "code",
   "execution_count": 73,
   "id": "1ab3936c-98b9-413f-8918-d7c97f13ba1e",
   "metadata": {},
   "outputs": [],
   "source": [
    "def E(P, w):\n",
    "    # Intensity/beam (W/m^2)\n",
    "    I = 2.0 * P / (np.pi * w**2)\n",
    "    # Electric field (V/m)\n",
    "    E = np.sqrt(2.0 * I / (epsilon_0 * C_c))\n",
    "    return E"
   ]
  },
  {
   "cell_type": "code",
   "execution_count": 205,
   "id": "6fe501a9-6ad9-4885-8332-d65fb1ebac83",
   "metadata": {},
   "outputs": [],
   "source": [
    "from arc import Cesium as Cs\n",
    "cs = Cs()\n",
    "\n",
    "def Omega(state1, state2, P, w, q):\n",
    "    HFS = [np.shape(state1)[0] == 5, np.shape(state2)[0] == 5]\n",
    "    \n",
    "    n1, l1, j1 = (state1[0], state1[1], state1[2])\n",
    "    n2, l2, j2 = (state2[0], state2[1], state2[2])\n",
    "    rme = cs.getReducedMatrixElementJ(n1, l1, j1, n2, l2, j2)\n",
    "    # print(rme)\n",
    "    rme *= C_e * physical_constants[\"Bohr radius\"][0]\n",
    "    \n",
    "    if HFS == [True, True]:\n",
    "        # print(\"Both HFS\")\n",
    "        f1, mf1 = (state1[3], state1[4])\n",
    "        f2, mf2 = (state2[3], state2[4])\n",
    "        ame = (cs.getSphericalDipoleMatrixElement(f1, mf1, f2, mf2, q)\n",
    "               * cs._reducedMatrixElementFJ(j1, f1, j2, f2))\n",
    "        # print(ame)\n",
    "\n",
    "    #NOTE: These two situations (where only one state considers HFS) should\n",
    "    # only be used when we are seeing how much some HF state couples up to \n",
    "    # ANY of the J states. getSphericalMatrixElementHFStoFS automatically sets\n",
    "    # the mI value of the J state so that we are coupled.\n",
    "    elif HFS == [True, False]:\n",
    "        # print(\"State 1 HFS\")\n",
    "        f1, mf1 = (state1[3], state1[4])\n",
    "        mj2 = state2[3]\n",
    "        ame = cs.getSphericalMatrixElementHFStoFS(j1, f1, mf1, j2, mj2, q)\n",
    "        # print(ame)\n",
    "\n",
    "    elif HFS == [False, True]:\n",
    "        # print(\"State 2 HFS\")\n",
    "        mj1 = state1[3]\n",
    "        f2, mf2 = (state2[3], state2[4])\n",
    "        ame = cs.getSphericalMatrixElementHFStoFS(j2, f2, mf2, j1, mj1, q)\n",
    "        # print(ame)\n",
    "    \n",
    "    elif HFS == [False, False]:\n",
    "        # print(\"Neither HFS\")\n",
    "        mj1 = state1[3]\n",
    "        mj2 = state2[3]\n",
    "        ame = cs.getSphericalDipoleMatrixElement(j1, mj1, j2, mj2, q)\n",
    "    \n",
    "    Omega = E(P, w) * rme * ame / hbar\n",
    "    \n",
    "    return Omega\n",
    "\n",
    "def Delta(state1, state2, wavelength):\n",
    "    HFS = [np.shape(state1)[0] == 5, np.shape(state2)[0] == 5]\n",
    "    \n",
    "    n1, l1, j1 = (state1[0], state1[1], state1[2])\n",
    "    n2, l2, j2 = (state2[0], state2[1], state2[2])\n",
    "    \n",
    "    E_1 = cs.getEnergy(n1, l1, j1)*C_e/C_h\n",
    "    E_2 = cs.getEnergy(n2, l2, j2)*C_e/C_h\n",
    "\n",
    "    if HFS[0]:\n",
    "        f1 = state1[3]\n",
    "        [A, B] = cs.getHFSCoefficients(n1, l1, j1)\n",
    "        Ehfs = cs.getHFSEnergyShift(j1, f1, A, B)\n",
    "        # print(Ehfs*1e-9 / (2.0 * np.pi))\n",
    "        E_1 += Ehfs\n",
    "    if HFS[1]: \n",
    "        f2 = state2[3]\n",
    "        [A, B] = cs.getHFSCoefficients(n2, l2, j2)\n",
    "        Ehfs = cs.getHFSEnergyShift(j2, f2, A, B)\n",
    "        # print(Ehfs*1e-9 / (2.0 * np.pi))\n",
    "        E_1 += Ehfs\n",
    "\n",
    "    freq = C_c / wavelength\n",
    "    print(freq)\n",
    "\n",
    "    # returns in units of rad/s so energy is hbar times this.\n",
    "    return 2*np.pi*(freq - np.abs(E_2 - E_1))\n",
    "    \n",
    "\n",
    "# def JandItoHFS"
   ]
  },
  {
   "cell_type": "code",
   "execution_count": 209,
   "id": "5b080e0e-0ffd-49c2-bc06-c17f73c397b8",
   "metadata": {},
   "outputs": [
    {
     "name": "stdout",
     "output_type": "stream",
     "text": [
      "657932608000000.0\n"
     ]
    },
    {
     "data": {
      "text/plain": [
       "np.float64(-3.7155648515)"
      ]
     },
     "execution_count": 209,
     "metadata": {},
     "output_type": "execute_result"
    }
   ],
   "source": [
    "state_e = [7,1,3/2,5]\n",
    "state_g = [6,0,1/2,4]\n",
    "\n",
    "wavelength = C_c / (657932.608*1e9)\n",
    "\n",
    "Delta(state_g, state_e, wavelength) * 1e-9 / (2*np.pi)"
   ]
  },
  {
   "cell_type": "code",
   "execution_count": 175,
   "id": "94d3c8da-c828-4b7e-8ae1-c10972e0aaa8",
   "metadata": {},
   "outputs": [
    {
     "name": "stdout",
     "output_type": "stream",
     "text": [
      "103.79033254715002 -83.97551587411672\n",
      "-1.320582836120159\n",
      "0.001905609071116621 0.0012474563713434266\n"
     ]
    }
   ],
   "source": [
    "P_c= 100e-3\n",
    "w_c = 25e-6\n",
    "P_p = 1e-3\n",
    "w_p = 25e-6\n",
    "\n",
    "Delta = 3.3e9\n",
    "\n",
    "state_r = [41,0,1/2,4,4]\n",
    "state_e = [7,1,3/2,5,5]\n",
    "state_g = [6,0,1/2,4,4]\n",
    "\n",
    "\n",
    "OmC = Omega(state_e, state_r, P_c, w_c, -1) * 1e-6 / (2*np.pi)\n",
    "OmP = Omega(state_g, state_e, P_p, w_p, 1) * 1e-6 / (2*np.pi)\n",
    "OmR = OmC * OmP / (2*(Delta * 1e-6))\n",
    "\n",
    "Pop_e_p = 0.5 * (OmP**2) / (2 * (Delta * 1e-6) ** 2)\n",
    "Pop_e_c = 0.5 * (OmC**2) / (2 * (Delta * 1e-6) ** 2)\n",
    "Gamma = 1.0 / cs.getStateLifetime(state_e[0], state_e[1], state_e[2])\n",
    "\n",
    "print(OmP, OmC)\n",
    "print(OmR)\n",
    "print(Pop_e_p * Gamma * 1e-6, Pop_e_c * Gamma * 1e-6)"
   ]
  },
  {
   "cell_type": "code",
   "execution_count": null,
   "id": "3f9acc11-5c11-4ce1-9ef8-c19816a3d174",
   "metadata": {},
   "outputs": [],
   "source": []
  },
  {
   "cell_type": "code",
   "execution_count": 151,
   "id": "415565e9-f10e-4f4e-8fd9-b90ce1d17b04",
   "metadata": {},
   "outputs": [
    {
     "data": {
      "text/plain": [
       "np.float64(-265.5538978498344)"
      ]
     },
     "execution_count": 151,
     "metadata": {},
     "output_type": "execute_result"
    }
   ],
   "source": [
    "P = 1\n",
    "w = 25e-6\n",
    "state2 = [41,0,1/2,4,4]\n",
    "state1 = [7,1,3/2,5,5]\n",
    "\n",
    "Omega(state1, state2, P, w, -1) * 1e-6 / (2*np.pi)"
   ]
  },
  {
   "cell_type": "code",
   "execution_count": 159,
   "id": "028b0a78-5050-4c68-85f8-944f5d3125bb",
   "metadata": {},
   "outputs": [
    {
     "data": {
      "text/plain": [
       "np.float64(103.79033254715002)"
      ]
     },
     "execution_count": 159,
     "metadata": {},
     "output_type": "execute_result"
    }
   ],
   "source": [
    "P = 1e-3\n",
    "w = 25e-6\n",
    "state2 = [7,1,3/2,5,5]\n",
    "state1 = [6,0,1/2,4,4]\n",
    "\n",
    "Omega(state1, state2, P, w, 1) * 1e-6 / (2*np.pi)"
   ]
  },
  {
   "cell_type": "code",
   "execution_count": 140,
   "id": "2b40cbf1-c14b-408f-834a-00af2824f096",
   "metadata": {},
   "outputs": [
    {
     "name": "stdout",
     "output_type": "stream",
     "text": [
      "-0.0\n",
      "433.64769929284085\n"
     ]
    }
   ],
   "source": [
    "P = 1\n",
    "w = 25e-6\n",
    "q = -1\n",
    "state2 = [41,0,1/2,-1/2]\n",
    "state1 = [7,1,3/2,5,5]\n",
    "omega = Omega(state1, state2, P, w, q) * 1e-6 / (2*np.pi)\n",
    "print(omega)\n",
    "\n",
    "Omega_squared = 0\n",
    "for i in range(-5, 6, 1):\n",
    "    state1 = [7,1,3/2,5,i]\n",
    "    Omega_squared += (Omega(state1, state2, P, w, q) * 1e-6 / (2*np.pi))**2\n",
    "\n",
    "for i in range(-4, 5, 1):\n",
    "    state1 = [7,1,3/2,4,i]\n",
    "    Omega_squared += (Omega(state1, state2, P, w, q) * 1e-6 / (2*np.pi))**2\n",
    "\n",
    "for i in range(-3, 4, 1):\n",
    "    state1 = [7,1,3/2,3,i]\n",
    "    Omega_squared += (Omega(state1, state2, P, w, q) * 1e-6 / (2*np.pi))**2\n",
    "\n",
    "for i in range(-2, 3, 1):\n",
    "    state1 = [7,1,3/2,2,i]\n",
    "    Omega_squared += (Omega(state1, state2, P, w, q) * 1e-6 / (2*np.pi))**2\n",
    "\n",
    "print(np.sqrt(Omega_squared))"
   ]
  },
  {
   "cell_type": "code",
   "execution_count": null,
   "id": "f4725bc4-2a97-4c14-abed-6d42b71caef0",
   "metadata": {},
   "outputs": [],
   "source": []
  }
 ],
 "metadata": {
  "kernelspec": {
   "display_name": "Python 3 (ipykernel)",
   "language": "python",
   "name": "python3"
  },
  "language_info": {
   "codemirror_mode": {
    "name": "ipython",
    "version": 3
   },
   "file_extension": ".py",
   "mimetype": "text/x-python",
   "name": "python",
   "nbconvert_exporter": "python",
   "pygments_lexer": "ipython3",
   "version": "3.12.8"
  }
 },
 "nbformat": 4,
 "nbformat_minor": 5
}
