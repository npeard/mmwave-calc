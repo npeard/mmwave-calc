{
 "cells": [
  {
   "cell_type": "code",
   "execution_count": 892,
   "id": "ebf5c497-4069-4fc9-9879-247ce33101a8",
   "metadata": {},
   "outputs": [],
   "source": [
    "import sys\n",
    "sys.path.append('../')\n",
    "\n",
    "import numpy as np\n",
    "import matplotlib.pyplot as plt\n",
    "import matplotlib as mpl\n",
    "import inspect\n",
    "\n",
    "import models.ac_stark as stark\n",
    "import models.rydberg_calcs as ryd\n",
    "import plotters.plot_ac_stark as pac\n",
    "\n",
    "from scipy.constants import c as C_c, h as C_h, k as C_k, e as C_e\n",
    "from scipy.constants import physical_constants, pi, epsilon_0, hbar"
   ]
  },
  {
   "cell_type": "code",
   "execution_count": 893,
   "id": "1ab3936c-98b9-413f-8918-d7c97f13ba1e",
   "metadata": {},
   "outputs": [],
   "source": [
    "def E(P, w):\n",
    "    # Intensity/beam (W/m^2)\n",
    "    I = 2.0 * P / (np.pi * w**2)\n",
    "    # Electric field (V/m)\n",
    "    E = np.sqrt(2.0 * I / (epsilon_0 * C_c))\n",
    "    return E"
   ]
  },
  {
   "cell_type": "code",
   "execution_count": 986,
   "id": "6fe501a9-6ad9-4885-8332-d65fb1ebac83",
   "metadata": {},
   "outputs": [],
   "source": [
    "from arc import Cesium as Cs\n",
    "from arc import Rubidium as Rb\n",
    "cs = Cs()\n",
    "# cs = Rb()\n",
    "\n",
    "def Omega(state1, state2, P, w, q):\n",
    "    HFS = [np.shape(state1)[0] == 5, np.shape(state2)[0] == 5]\n",
    "    \n",
    "    n1, l1, j1 = (state1[0], state1[1], state1[2])\n",
    "    n2, l2, j2 = (state2[0], state2[1], state2[2])\n",
    "    rme = cs.getReducedMatrixElementJ(n1, l1, j1, n2, l2, j2)\n",
    "    # print(rme)\n",
    "    rme *= C_e * physical_constants[\"Bohr radius\"][0]\n",
    "    \n",
    "    if HFS == [True, True]:\n",
    "        # print(\"Both HFS\")\n",
    "        f1, mf1 = (state1[3], state1[4])\n",
    "        f2, mf2 = (state2[3], state2[4])\n",
    "        ame = (cs.getSphericalDipoleMatrixElement(f1, mf1, f2, mf2, q)\n",
    "               * cs._reducedMatrixElementFJ(j1, f1, j2, f2))\n",
    "        # print(ame)\n",
    "\n",
    "    #NOTE: These two situations (where only one state considers HFS) should\n",
    "    # only be used when we are seeing how much some HF state couples up to \n",
    "    # ANY of the J states. getSphericalMatrixElementHFStoFS automatically sets\n",
    "    # the mI value of the J state so that we are coupled.\n",
    "    elif HFS == [True, False]:\n",
    "        # print(\"State 1 HFS\")\n",
    "        f1, mf1 = (state1[3], state1[4])\n",
    "        mj2 = state2[3]\n",
    "        ame = cs.getSphericalMatrixElementHFStoFS(j1, f1, mf1, j2, mj2, q)\n",
    "        # print(ame)\n",
    "\n",
    "    elif HFS == [False, True]:\n",
    "        # print(\"State 2 HFS\")\n",
    "        mj1 = state1[3]\n",
    "        f2, mf2 = (state2[3], state2[4])\n",
    "        ame = cs.getSphericalMatrixElementHFStoFS(j2, f2, mf2, j1, mj1, q)\n",
    "        # print(ame)\n",
    "    \n",
    "    elif HFS == [False, False]:\n",
    "        # print(\"Neither HFS\")\n",
    "        mj1 = state1[3]\n",
    "        mj2 = state2[3]\n",
    "        ame = cs.getSphericalDipoleMatrixElement(j1, mj1, j2, mj2, q)\n",
    "    \n",
    "    Omega = E(P, w) * rme * ame / hbar\n",
    "    # returns in units of rad/s so energy is hbar times this.\n",
    "    return Omega\n",
    "\n",
    "def get_HFS(state):\n",
    "    n, l, j, f = (state[0], state[1], state[2], state[3])\n",
    "    try:\n",
    "        [A, B] = cs.getHFSCoefficients(n, l, j)\n",
    "        Ehfs = cs.getHFSEnergyShift(j, f, A, B)\n",
    "    except:\n",
    "        Ehfs = 0\n",
    "        # print(f\"no HFS data for state {state}\")\n",
    "    return Ehfs\n",
    "\n",
    "def w_0(state1, state2):\n",
    "    #Returns in units of 1/s\n",
    "    HFS = [np.shape(state1)[0] == 5, np.shape(state2)[0] == 5]\n",
    "    \n",
    "    n1, l1, j1 = (state1[0], state1[1], state1[2])\n",
    "    n2, l2, j2 = (state2[0], state2[1], state2[2])\n",
    "    \n",
    "    E_1 = cs.getEnergy(n1, l1, j1)*C_e/C_h\n",
    "    E_2 = cs.getEnergy(n2, l2, j2)*C_e/C_h\n",
    "\n",
    "    if HFS[0]:\n",
    "        Ehfs = get_HFS(state1)\n",
    "        E_1 += Ehfs\n",
    "    if HFS[1]: \n",
    "        Ehfs = get_HFS(state2)\n",
    "        E_1 += Ehfs\n",
    "\n",
    "    w_0 = E_2 - E_1\n",
    "    return w_0\n",
    "    \n",
    "def Delta(state1, state2, wavelength, perturb_sign = False, Bloch_Siegert = False):\n",
    "    w0 = w_0(state1, state2)\n",
    "\n",
    "    freq = C_c / wavelength\n",
    "    # print(freq)\n",
    "    \n",
    "    if perturb_sign:\n",
    "        sign_factor = np.sign(w0)\n",
    "    else: \n",
    "        sign_factor = 1\n",
    "\n",
    "    #See Steck Eq. 7.455\n",
    "    if Bloch_Siegert:\n",
    "        delta = 2*np.pi*(freq**2 - (w0)**2) / (2 * np.abs(w0))\n",
    "    else:\n",
    "        delta = 2*np.pi*(freq - np.abs(w0))\n",
    "\n",
    "    # returns in units of rad/s so energy is hbar times this\n",
    "    return delta*sign_factor\n",
    "\n",
    "def generate_basis_gs(gs, wavelength, q):\n",
    "    #HF groundstates\n",
    "    n1, l1, j1, f1, mf1 = (gs[0], gs[1], gs[2], gs[3], gs[4])\n",
    "\n",
    "    #Heuristic ranges that should give enough of a buffer. Pretty conservative\n",
    "    if wavelength > 895e-9:\n",
    "        n_max = 6\n",
    "    elif wavelength < 450e-9:\n",
    "        n_max = 15\n",
    "    else:\n",
    "        n_max = 10\n",
    "\n",
    "    # l = 1\n",
    "\n",
    "    basis = []\n",
    "    for n in range(6, n_max+1):\n",
    "        # for j in [1/2, 3/2]:\n",
    "        #     I = cs.I\n",
    "        #     f_min = max([f1-1, int(np.abs(j-I))])\n",
    "        #     f_max = np.min([f1+2, int(j+I)])\n",
    "        #     for f in range(f_min, f_max+1):\n",
    "        #         q_sign = np.sign(w_0(gs, [n,l,j,f,f]))\n",
    "        #         mf = mf1 + q * q_sign\n",
    "        #         if not(f == f1 and q == 0 and mf == 0):\n",
    "        #             if np.abs(mf) <= f:\n",
    "        #                 state = [n, l, j, f, mf]\n",
    "        #                 basis.append(state)\n",
    "        for l in [l1-1, l1+1]:  \n",
    "            for j in [l+1/2, l-1/2]:\n",
    "                if np.abs(j-j1)< 1.1:\n",
    "                    I = cs.I\n",
    "                    f_min = max([f1-1, int(np.abs(j-I))])\n",
    "                    f_max = np.min([f1+2, int(j+I)])\n",
    "                    for f in range(f_min, f_max+1):\n",
    "                        q_sign = np.sign(w_0(gs, [n,l,j,f,f]))\n",
    "                        mf = int(mf1 + q * q_sign)\n",
    "                        if not(f == f1 and q == 0 and mf == 0):\n",
    "                            if np.abs(mf) <= f and np.abs(f-f1)< 1.1:\n",
    "                                state = [n, l, j, f, mf]\n",
    "                                basis.append(state)\n",
    "\n",
    "    return basis\n",
    "\n",
    "def generate_basis_rydberg(rydstate, wavelength, q, mw_dn = 5):\n",
    "    #Low l rydberg states. This code really only gives accurate results for microwave \n",
    "    #wavelengths (which couple only Rydberg-Rydberg states) \n",
    "    #or optical (which couple Rydberg-Low n)\n",
    "    n1, l1, j1, f1, mf1 = (rydstate[0], rydstate[1], rydstate[2], rydstate[3], rydstate[4])\n",
    "\n",
    "    #Heuristic ranges that should give enough of a buffer. Pretty conservative\n",
    "    n_min_optical = 6\n",
    "    if wavelength < 450e-9:\n",
    "        n_max_optical = 8\n",
    "    elif wavelength < 900e-9:\n",
    "        n_max_optical = 10\n",
    "    elif wavelength < 2000e-9:\n",
    "        n_max_optical = 12\n",
    "\n",
    "    n_max_optical = 8\n",
    "\n",
    "    n_max_mw = int(n1 + mw_dn)\n",
    "    n_min_mw = int(n1 - mw_dn)\n",
    "    n_range = range(n_min_mw, n_max_mw+1)\n",
    "    if wavelength < 10000e-9:\n",
    "        n_range_optical = range(n_min_optical, n_max_optical+1)\n",
    "        n_range = np.concatenate([n_range_optical, n_range])\n",
    "        # n_range = n_range_optical\n",
    "    basis = []\n",
    "    for n in n_range:\n",
    "        for l in [l1-1, l1+1]:  \n",
    "            for j in [l+1/2, l-1/2]:\n",
    "                if np.abs(j-j1)< 1.1:\n",
    "                    I = cs.I\n",
    "                    f_min = max([f1-1, int(np.abs(j-I))])\n",
    "                    f_max = np.min([f1+2, int(j+I)])\n",
    "                    for f in range(f_min, f_max+1):\n",
    "                        q_sign = np.sign(w_0(rydstate, [n,l,j,f,f]))\n",
    "                        mf = int(mf1 + q * q_sign)\n",
    "                        if not(f == f1 and q == 0 and mf == 0):\n",
    "                            if np.abs(mf) <= f and np.abs(f-f1)< 1.1:\n",
    "                                state = [n, l, j, f, mf]\n",
    "                                basis.append(state)\n",
    "\n",
    "    return basis\n",
    "    \n",
    "def ac_stark(state, wavelength, P, w, q, largest_contrib = 0):\n",
    "    if state[0]<7:\n",
    "        basis = generate_basis_gs(state, wavelength, q)\n",
    "        B_S = False\n",
    "    if state[0]>15:\n",
    "        basis = generate_basis_rydberg(state, wavelength, q, mw_dn = 3)\n",
    "        B_S = True\n",
    "    \n",
    "    U = 0\n",
    "    contributions = []\n",
    "    for state2 in basis:\n",
    "        delta = Delta(state, state2, wavelength, perturb_sign = True, Bloch_Siegert = B_S)\n",
    "        omega = Omega(state, state2, P, w, q)\n",
    "        if omega == 0:\n",
    "            omega = Omega(state2, state, P, w, q)\n",
    "        #Both Omega and Delta return in units of rad/s, so U is also in rad/s\n",
    "        U_i = omega**2 / (4*delta)\n",
    "        if largest_contrib > 0:\n",
    "            contributions.append([state2, delta, omega, U_i])\n",
    "        # print(state2, \n",
    "        #       np.round(w_0(state, state2)*1e-9,3),\n",
    "        #       np.round(delta*1e-9/(2*np.pi),3), \n",
    "        #       np.round(omega*1e-9/(2*np.pi),3), \n",
    "        #       np.round(U_i*1e-6/(2*np.pi),3))\n",
    "        U += U_i\n",
    "\n",
    "    if largest_contrib > 0:\n",
    "        # print(contributions)\n",
    "        contrib_transpose = [list(i) for i in zip(*contributions)]\n",
    "        contrib_inds = np.argsort(np.abs(contrib_transpose[-1]))[-largest_contrib:]\n",
    "        # print(np.abs(contrib_transpose[-1]))\n",
    "        biggest_contribs = [contributions[i] for i in contrib_inds]\n",
    "        # print(biggest_contribs)\n",
    "\n",
    "    #returns in rad/s\n",
    "    if largest_contrib > 0:\n",
    "        return U, biggest_contribs\n",
    "    else:\n",
    "        return U"
   ]
  },
  {
   "cell_type": "markdown",
   "id": "61347306-5739-4aae-aa8c-2bb886467b94",
   "metadata": {},
   "source": [
    "## Startk Shifts"
   ]
  },
  {
   "cell_type": "markdown",
   "id": "424e7488-cd09-4138-9514-feec6d03e408",
   "metadata": {},
   "source": [
    "### Single Wavelength Stark Shifts"
   ]
  },
  {
   "cell_type": "code",
   "execution_count": 918,
   "id": "51857e4f-fef4-4e54-ac13-e9014c3accc0",
   "metadata": {},
   "outputs": [
    {
     "ename": "IndexError",
     "evalue": "list index out of range",
     "output_type": "error",
     "traceback": [
      "\u001b[0;31m---------------------------------------------------------------------------\u001b[0m",
      "\u001b[0;31mIndexError\u001b[0m                                Traceback (most recent call last)",
      "Cell \u001b[0;32mIn[918], line 14\u001b[0m\n\u001b[1;32m      5\u001b[0m q \u001b[38;5;241m=\u001b[39m \u001b[38;5;241m1\u001b[39m\n\u001b[1;32m      6\u001b[0m \u001b[38;5;66;03m# basis = generate_basis_gs(state, wavelength, q)\u001b[39;00m\n\u001b[1;32m      7\u001b[0m \u001b[38;5;66;03m# print(basis)\u001b[39;00m\n\u001b[1;32m      8\u001b[0m \n\u001b[0;32m   (...)\u001b[0m\n\u001b[1;32m     11\u001b[0m \u001b[38;5;66;03m#     Omegas.append(Omega(state, s, P, w, q) * 1e-6 / (2*np.pi))\u001b[39;00m\n\u001b[1;32m     12\u001b[0m \u001b[38;5;66;03m# print(Omegas)\u001b[39;00m\n\u001b[0;32m---> 14\u001b[0m U, contrib \u001b[38;5;241m=\u001b[39m ac_stark(state, wavelength, P, w, q, largest_contrib \u001b[38;5;241m=\u001b[39m \u001b[38;5;241m1\u001b[39m)\n\u001b[1;32m     15\u001b[0m \u001b[38;5;28mprint\u001b[39m(U \u001b[38;5;241m*\u001b[39m \u001b[38;5;241m1e-6\u001b[39m \u001b[38;5;241m/\u001b[39m (\u001b[38;5;241m2\u001b[39m\u001b[38;5;241m*\u001b[39mnp\u001b[38;5;241m.\u001b[39mpi))\n\u001b[1;32m     16\u001b[0m \u001b[38;5;28mprint\u001b[39m(contrib[\u001b[38;5;241m0\u001b[39m][\u001b[38;5;241m2\u001b[39m]\u001b[38;5;241m*\u001b[39m \u001b[38;5;241m1e-6\u001b[39m \u001b[38;5;241m/\u001b[39m (\u001b[38;5;241m2\u001b[39m\u001b[38;5;241m*\u001b[39mnp\u001b[38;5;241m.\u001b[39mpi))\n",
      "Cell \u001b[0;32mIn[917], line 199\u001b[0m, in \u001b[0;36mac_stark\u001b[0;34m(state, wavelength, P, w, q, largest_contrib)\u001b[0m\n\u001b[1;32m    196\u001b[0m \u001b[38;5;28;01mif\u001b[39;00m largest_contrib \u001b[38;5;241m>\u001b[39m \u001b[38;5;241m0\u001b[39m:\n\u001b[1;32m    197\u001b[0m     \u001b[38;5;66;03m# print(contributions)\u001b[39;00m\n\u001b[1;32m    198\u001b[0m     contrib_transpose \u001b[38;5;241m=\u001b[39m [\u001b[38;5;28mlist\u001b[39m(i) \u001b[38;5;28;01mfor\u001b[39;00m i \u001b[38;5;129;01min\u001b[39;00m \u001b[38;5;28mzip\u001b[39m(\u001b[38;5;241m*\u001b[39mcontributions)]\n\u001b[0;32m--> 199\u001b[0m     contrib_inds \u001b[38;5;241m=\u001b[39m np\u001b[38;5;241m.\u001b[39margsort(np\u001b[38;5;241m.\u001b[39mabs(contrib_transpose[\u001b[38;5;241m-\u001b[39m\u001b[38;5;241m1\u001b[39m]))[\u001b[38;5;241m-\u001b[39mlargest_contrib:]\n\u001b[1;32m    200\u001b[0m     \u001b[38;5;66;03m# print(np.abs(contrib_transpose[-1]))\u001b[39;00m\n\u001b[1;32m    201\u001b[0m     biggest_contribs \u001b[38;5;241m=\u001b[39m [contributions[i] \u001b[38;5;28;01mfor\u001b[39;00m i \u001b[38;5;129;01min\u001b[39;00m contrib_inds]\n",
      "\u001b[0;31mIndexError\u001b[0m: list index out of range"
     ]
    }
   ],
   "source": [
    "state = [6,0,0.5,4,4]\n",
    "wavelength = 455.655e-9\n",
    "P = 0.01\n",
    "w = 25e-6\n",
    "q = 1\n",
    "# basis = generate_basis_gs(state, wavelength, q)\n",
    "# print(basis)\n",
    "\n",
    "# Omegas = []\n",
    "# for s in basis:\n",
    "#     Omegas.append(Omega(state, s, P, w, q) * 1e-6 / (2*np.pi))\n",
    "# print(Omegas)\n",
    "\n",
    "U, contrib = ac_stark(state, wavelength, P, w, q, largest_contrib = 1)\n",
    "print(U * 1e-6 / (2*np.pi))\n",
    "print(contrib[0][2]* 1e-6 / (2*np.pi))"
   ]
  },
  {
   "cell_type": "code",
   "execution_count": 937,
   "id": "cdd0ddf7-79e8-476a-a7f4-c8b6354ea6ee",
   "metadata": {},
   "outputs": [
    {
     "name": "stdout",
     "output_type": "stream",
     "text": [
      "-0.0\n",
      "0.0\n",
      "[np.int64(6), 1, 1.5, 3, 3] -295816.235 -2332.338 0.047 -0.0\n",
      "[np.int64(6), 1, 1.5, 4, 3] -295816.274 -2332.298 0.026 -0.0\n",
      "[np.int64(6), 1, 0.5, 3, 3] -298139.978 0.528 0.144 9.804\n",
      "[np.int64(6), 3, 2.5, 3, 3] -90896.49 -443498.755 0.233 -0.0\n",
      "[np.int64(6), 3, 2.5, 4, 3] -90896.49 -443498.755 -0.173 -0.0\n",
      "[np.int64(7), 1, 1.5, 3, 3] -173575.3 -169260.104 -0.065 -0.0\n",
      "[np.int64(7), 1, 1.5, 4, 3] -173575.318 -169260.069 -0.036 -0.0\n",
      "[np.int64(7), 1, 0.5, 3, 3] -174627.296 -167191.615 -0.196 -0.0\n",
      "[np.int64(7), 3, 2.5, 3, 3] -66500.816 -635065.692 -0.346 -0.0\n",
      "[np.int64(7), 3, 2.5, 4, 3] -66500.816 -635065.692 0.258 -0.0\n",
      "[np.int64(8), 1, 1.5, 3, 3] -114097.5 -332473.946 0.084 -0.0\n",
      "[np.int64(8), 1, 1.5, 4, 3] -114097.508 -332473.914 0.047 -0.0\n",
      "[np.int64(8), 1, 0.5, 3, 3] -114662.507 -330272.044 0.251 -0.0\n",
      "[np.int64(8), 3, 2.5, 3, 3] -50674.623 -851700.604 0.48 -0.0\n",
      "[np.int64(8), 3, 2.5, 4, 3] -50674.623 -851700.604 -0.358 -0.0\n",
      "[np.int64(58), 1, 1.5, 3, 3] -148.984 -298310610.546 21.567 -0.0\n",
      "[np.int64(58), 1, 1.5, 4, 3] -148.984 -298310610.546 11.933 -0.0\n",
      "[np.int64(58), 1, 0.5, 3, 3] -149.497 -297287933.204 38.568 -0.001\n",
      "[np.int64(58), 3, 2.5, 3, 3] -53.975 -823404392.836 3141.533 -2.996\n",
      "[np.int64(58), 3, 2.5, 4, 3] -53.975 -823404392.836 -2341.56 -1.665\n",
      "[np.int64(59), 1, 1.5, 3, 3] -111.226 -399579172.189 -26.026 -0.0\n",
      "[np.int64(59), 1, 1.5, 4, 3] -111.226 -399579172.189 -14.4 -0.0\n",
      "[np.int64(59), 1, 0.5, 3, 3] -111.712 -397841854.089 -35.614 -0.001\n",
      "[np.int64(59), 3, 2.5, 3, 3] -21.078 -2108557778.44 -15135.474 -27.161\n",
      "[np.int64(59), 3, 2.5, 4, 3] -21.078 -2108557778.44 11281.316 -15.089\n",
      "[np.int64(60), 1, 1.5, 3, 3] -75.425 -589239564.11 24.664 -0.0\n",
      "[np.int64(60), 1, 1.5, 4, 3] -75.425 -589239564.11 13.646 -0.0\n",
      "[np.int64(60), 1, 0.5, 3, 3] -75.886 -585661989.778 -7.69 -0.0\n",
      "[np.int64(60), 3, 2.5, 3, 3] 10.188 4362180271.723 -25046.381 35.952\n",
      "[np.int64(60), 3, 2.5, 4, 3] 10.188 4362180271.723 18668.47 19.973\n",
      "[np.int64(61), 1, 1.5, 3, 3] -41.449 -1072240689.336 62.075 -0.001\n",
      "[np.int64(61), 1, 1.5, 4, 3] -41.449 -1072240689.336 34.345 -0.0\n",
      "[np.int64(61), 1, 0.5, 3, 3] -41.887 -1061042326.237 411.052 -0.04\n",
      "[np.int64(61), 3, 2.5, 3, 3] 39.929 1113063946.935 750.377 0.126\n",
      "[np.int64(61), 3, 2.5, 4, 3] 39.929 1113063946.935 -559.298 0.07\n",
      "[np.int64(62), 1, 1.5, 3, 3] -9.176 -4843524857.799 -8053.901 -3.348\n",
      "[np.int64(62), 1, 1.5, 4, 3] -9.176 -4843524857.799 -4456.089 -1.025\n",
      "[np.int64(62), 1, 0.5, 3, 3] -9.592 -4633596186.71 -25487.929 -35.05\n",
      "[np.int64(62), 3, 2.5, 3, 3] 68.242 651265248.392 -140.124 0.008\n",
      "[np.int64(62), 3, 2.5, 4, 3] 68.242 651265248.392 104.442 0.004\n",
      "[np.int64(63), 1, 1.5, 3, 3] 21.507 2066496265.593 -4611.772 2.573\n",
      "[np.int64(63), 1, 1.5, 4, 3] 21.507 2066496265.593 -2551.616 0.788\n",
      "[np.int64(63), 1, 0.5, 3, 3] 21.111 2105199956.308 -15138.329 27.215\n",
      "[np.int64(63), 3, 2.5, 3, 3] 95.217 466761382.85 33.421 0.001\n",
      "[np.int64(63), 3, 2.5, 4, 3] 95.217 466761382.85 -24.911 0.0\n",
      "[np.int64(64), 1, 1.5, 3, 3] 50.701 876574663.763 1062.885 0.322\n",
      "[np.int64(64), 1, 1.5, 4, 3] 50.701 876574663.763 588.077 0.099\n",
      "[np.int64(64), 1, 0.5, 3, 3] 50.325 883130502.781 3404.122 3.28\n",
      "[np.int64(64), 3, 2.5, 3, 3] 120.937 367493448.031 -2.964 0.0\n",
      "[np.int64(64), 3, 2.5, 4, 3] 120.937 367493448.031 2.209 0.0\n",
      "hi\n",
      "[np.int64(6), 0, 0.5, 3, 3] -405533.415 93173.85 -0.025 0.0\n",
      "[np.int64(6), 2, 1.5, 3, 3] -149072.158 -223598.505 -0.178 -0.0\n",
      "[np.int64(6), 2, 1.5, 4, 3] -149072.158 -223598.505 0.138 -0.0\n",
      "[np.int64(7), 0, 0.5, 3, 3] -220293.665 -91600.076 0.05 -0.0\n",
      "[np.int64(7), 2, 1.5, 3, 3] -101315.637 -388006.607 0.28 -0.0\n",
      "[np.int64(7), 2, 1.5, 4, 3] -101315.637 -388006.607 -0.217 -0.0\n",
      "[np.int64(8), 0, 0.5, 3, 3] -138275.307 -252275.958 -0.083 -0.0\n",
      "[np.int64(8), 2, 1.5, 3, 3] -73112.027 -571327.086 -0.402 -0.0\n",
      "[np.int64(8), 2, 1.5, 4, 3] -73112.027 -571327.086 0.311 -0.0\n",
      "[np.int64(59), 0, 0.5, 3, 3] -119.863 -370787790.173 452.654 -0.138\n",
      "[np.int64(59), 2, 1.5, 3, 3] -55.666 -798395292.299 3180.411 -3.167\n",
      "[np.int64(59), 2, 1.5, 4, 3] -55.666 -798395292.299 -2463.536 -1.9\n",
      "[np.int64(60), 0, 0.5, 3, 3] -83.121 -534684473.162 -843.552 -0.333\n",
      "[np.int64(60), 2, 1.5, 3, 3] -22.203 -2001702342.246 -14632.294 -26.74\n",
      "[np.int64(60), 2, 1.5, 4, 3] -22.203 -2001702342.246 11334.126 -16.044\n",
      "[np.int64(61), 0, 0.5, 3, 3] -48.268 -920768311.672 2192.315 -1.305\n",
      "[np.int64(61), 2, 1.5, 3, 3] 9.592 4633596186.71 -25487.929 35.05\n",
      "[np.int64(61), 2, 1.5, 4, 3] 9.592 4633596186.71 19742.865 21.03\n",
      "[np.int64(62), 0, 0.5, 3, 3] -15.176 -2928591473.38 -19075.854 -31.063\n",
      "[np.int64(62), 2, 1.5, 3, 3] 39.826 1115930738.535 427.207 0.041\n",
      "[np.int64(62), 2, 1.5, 4, 3] 39.826 1115930738.535 -330.913 0.025\n",
      "[np.int64(63), 0, 0.5, 3, 3] 16.272 2731280011.676 -17978.303 29.585\n",
      "[np.int64(63), 2, 1.5, 3, 3] 68.602 647845865.663 -10.746 0.0\n",
      "[np.int64(63), 2, 1.5, 4, 3] 68.602 647845865.663 8.324 0.0\n",
      "[np.int64(64), 0, 0.5, 3, 3] 46.183 962342442.082 2628.147 1.794\n",
      "[np.int64(64), 2, 1.5, 3, 3] 96.011 462901511.362 -36.784 0.001\n",
      "[np.int64(64), 2, 1.5, 4, 3] 96.011 462901511.362 28.493 0.0\n",
      "[np.int64(65), 0, 0.5, 3, 3] 74.655 595321619.238 -1107.098 0.515\n",
      "[np.int64(65), 2, 1.5, 3, 3] 122.138 363879900.765 41.502 0.001\n",
      "[np.int64(65), 2, 1.5, 4, 3] 122.138 363879900.765 -32.147 0.001\n",
      "13.835566672999882 7.351417408127582\n",
      "6.4841492648723\n"
     ]
    }
   ],
   "source": [
    "state1 = [61,2,3/2,3,3]\n",
    "state2 = [62,1,1/2,3,3]\n",
    "\n",
    "test_state = [61, 3, 2.5, 4, 2]\n",
    "freq = 298139.450*1e9\n",
    "wavelength = C_c / freq\n",
    "# wavelength = 1064e-9\n",
    "P = 30e-3\n",
    "w = 3.4e-6\n",
    "q = 0\n",
    "print(Omega(test_state, state1, P, w, q))\n",
    "print(Omega(state1, test_state, P, w, q))\n",
    "\n",
    "U1 = ac_stark(state1, wavelength, P, w, q)\n",
    "U1 = U1  * 1e-6 / (2*np.pi)\n",
    "print(\"hi\")\n",
    "U2 = ac_stark(state2, wavelength, P, w, q) * 1e-6 / (2*np.pi)\n",
    "\n",
    "print(U1, U2)\n",
    "print(U1-U2)\n",
    "# print([contrib[i][0] for i in range(contrib_num)])"
   ]
  },
  {
   "cell_type": "markdown",
   "id": "9e3a1260-61af-459c-9166-fe6136ebfb1e",
   "metadata": {},
   "source": [
    "### Stark Shift Plotter"
   ]
  },
  {
   "cell_type": "code",
   "execution_count": 1043,
   "id": "a7fd80d0-e7af-4535-8ac7-afc99380c388",
   "metadata": {},
   "outputs": [],
   "source": [
    "wavelengths = np.linspace(455.65e-9, 455.66e-9, 101)\n",
    "# wavelengths = [C_c / ((657932.608 + 1)*1e9)]\n",
    "P = 0.0114\n",
    "w = 50e-6\n",
    "q = 1\n",
    "\n",
    "state1 = [6,0,0.5,4,4]\n",
    "state2 = [6,0,0.5,3,3]\n",
    "\n",
    "dUs = []\n",
    "U1s = []\n",
    "U2s = []\n",
    "for wavelength in wavelengths:\n",
    "    U1 = ac_stark(state1, wavelength, P, w, q)\n",
    "    U2 = ac_stark(state2, wavelength, P, w, q)\n",
    "    U1s.append(U1 * 1e-6 / (2*np.pi))\n",
    "    U2s.append(U2 * 1e-6 / (2*np.pi))\n",
    "    dUs.append((U1-U2) * 1e-6 / (2*np.pi))\n",
    "# print(U1s)"
   ]
  },
  {
   "cell_type": "code",
   "execution_count": 1045,
   "id": "ae4309a5-81d0-408f-9f7b-fa2f7aa52fff",
   "metadata": {},
   "outputs": [
    {
     "data": {
      "text/plain": [
       "<matplotlib.legend.Legend at 0x183d8e1e0>"
      ]
     },
     "execution_count": 1045,
     "metadata": {},
     "output_type": "execute_result"
    },
    {
     "data": {
      "image/png": "[encoded data removed]",
      "text/plain": [
       "<Figure size 640x480 with 1 Axes>"
      ]
     },
     "metadata": {},
     "output_type": "display_data"
    }
   ],
   "source": [
    "target_state = [7,1,1.5,5,5]\n",
    "deltas = [Delta(state1, target_state, wavelength)/(2*np.pi)*1e-9 for wavelength in wavelengths]\n",
    "\n",
    "plt.plot(deltas, dUs, label = f\"{state1} - {state2} differential shift\")\n",
    "# plt.plot(deltas, U1s, label = f\"{state1} shift\")\n",
    "# plt.plot(deltas, U2s, label = f\"{state2} shift\")\n",
    "plt.ylim(-20, 20)\n",
    "plt.xlabel(f\"Freq from {state1} to {target_state} resonance [GHz]\")\n",
    "plt.ylabel(\"Energy Shift [MHz]\")\n",
    "plt.title(f\"Power  = {P*1e3} mW, w = {w*1e6} um\")\n",
    "plt.grid()\n",
    "plt.legend()"
   ]
  },
  {
   "cell_type": "code",
   "execution_count": 1048,
   "id": "a52e6129-8035-4cc3-b196-af5049876807",
   "metadata": {},
   "outputs": [
    {
     "ename": "UnboundLocalError",
     "evalue": "cannot access local variable 'basis' where it is not associated with a value",
     "output_type": "error",
     "traceback": [
      "\u001b[0;31m---------------------------------------------------------------------------\u001b[0m",
      "\u001b[0;31mUnboundLocalError\u001b[0m                         Traceback (most recent call last)",
      "Cell \u001b[0;32mIn[1048], line 15\u001b[0m\n\u001b[1;32m     13\u001b[0m \u001b[38;5;28;01mfor\u001b[39;00m wavelength \u001b[38;5;129;01min\u001b[39;00m wavelengths:\n\u001b[1;32m     14\u001b[0m     U1 \u001b[38;5;241m=\u001b[39m ac_stark(state1, wavelength, P, w, q)\n\u001b[0;32m---> 15\u001b[0m     U2 \u001b[38;5;241m=\u001b[39m ac_stark(state2, wavelength, P, w, q)\n\u001b[1;32m     16\u001b[0m     U1s\u001b[38;5;241m.\u001b[39mappend(U1 \u001b[38;5;241m*\u001b[39m \u001b[38;5;241m1e-6\u001b[39m \u001b[38;5;241m/\u001b[39m (\u001b[38;5;241m2\u001b[39m\u001b[38;5;241m*\u001b[39mnp\u001b[38;5;241m.\u001b[39mpi))\n\u001b[1;32m     17\u001b[0m     U2s\u001b[38;5;241m.\u001b[39mappend(U2 \u001b[38;5;241m*\u001b[39m \u001b[38;5;241m1e-6\u001b[39m \u001b[38;5;241m/\u001b[39m (\u001b[38;5;241m2\u001b[39m\u001b[38;5;241m*\u001b[39mnp\u001b[38;5;241m.\u001b[39mpi))\n",
      "Cell \u001b[0;32mIn[986], line 196\u001b[0m, in \u001b[0;36mac_stark\u001b[0;34m(state, wavelength, P, w, q, largest_contrib)\u001b[0m\n\u001b[1;32m    194\u001b[0m U \u001b[38;5;241m=\u001b[39m \u001b[38;5;241m0\u001b[39m\n\u001b[1;32m    195\u001b[0m contributions \u001b[38;5;241m=\u001b[39m []\n\u001b[0;32m--> 196\u001b[0m \u001b[38;5;28;01mfor\u001b[39;00m state2 \u001b[38;5;129;01min\u001b[39;00m basis:\n\u001b[1;32m    197\u001b[0m     delta \u001b[38;5;241m=\u001b[39m Delta(state, state2, wavelength, perturb_sign \u001b[38;5;241m=\u001b[39m \u001b[38;5;28;01mTrue\u001b[39;00m, Bloch_Siegert \u001b[38;5;241m=\u001b[39m B_S)\n\u001b[1;32m    198\u001b[0m     omega \u001b[38;5;241m=\u001b[39m Omega(state, state2, P, w, q)\n",
      "\u001b[0;31mUnboundLocalError\u001b[0m: cannot access local variable 'basis' where it is not associated with a value"
     ]
    }
   ],
   "source": [
    "wavelengths = np.linspace(1066.65e-9, 1066.66e-9, 101)\n",
    "# wavelengths = [C_c / ((657932.608 + 1)*1e9)]\n",
    "P = 1\n",
    "w = 50e-6\n",
    "q = -1\n",
    "\n",
    "state1 = [6,0,0.5,4,4]\n",
    "state2 = [7,1,1.5,5,5]\n",
    "\n",
    "dUs = []\n",
    "U1s = []\n",
    "U2s = []\n",
    "for wavelength in wavelengths:\n",
    "    U1 = ac_stark(state1, wavelength, P, w, q)\n",
    "    U2 = ac_stark(state2, wavelength, P, w, q)\n",
    "    U1s.append(U1 * 1e-6 / (2*np.pi))\n",
    "    U2s.append(U2 * 1e-6 / (2*np.pi))\n",
    "    dUs.append((U1-U2) * 1e-6 / (2*np.pi))\n",
    "# print(U1s)"
   ]
  },
  {
   "cell_type": "code",
   "execution_count": 1047,
   "id": "95f06432-da00-4ca7-945d-a4d5f575407d",
   "metadata": {},
   "outputs": [
    {
     "data": {
      "text/plain": [
       "<matplotlib.legend.Legend at 0x183c3fc20>"
      ]
     },
     "execution_count": 1047,
     "metadata": {},
     "output_type": "execute_result"
    },
    {
     "data": {
      "image/png": "[encoded data removed]",
      "text/plain": [
       "<Figure size 640x480 with 1 Axes>"
      ]
     },
     "metadata": {},
     "output_type": "display_data"
    }
   ],
   "source": [
    "target_state = [41,0,0.5,4,4]\n",
    "deltas = [Delta(state1, target_state, wavelength)/(2*np.pi)*1e-9 for wavelength in wavelengths]\n",
    "\n",
    "plt.plot(deltas, dUs, label = f\"{state1} - {state2} differential shift\")\n",
    "# plt.plot(deltas, U1s, label = f\"{state1} shift\")\n",
    "# plt.plot(deltas, U2s, label = f\"{state2} shift\")\n",
    "plt.ylim(-20, 20)\n",
    "plt.xlabel(f\"Freq from {state1} to {target_state} resonance [GHz]\")\n",
    "plt.ylabel(\"Energy Shift [MHz]\")\n",
    "plt.title(f\"Power  = {P*1e3} mW, w = {w*1e6} um\")\n",
    "plt.grid()\n",
    "plt.legend()"
   ]
  },
  {
   "cell_type": "markdown",
   "id": "c8a933ca-050d-4416-b35e-21493f13af7c",
   "metadata": {},
   "source": [
    "### Backing out possible powers / waists given differential light shift measurement"
   ]
  },
  {
   "cell_type": "code",
   "execution_count": 776,
   "id": "e1e4df3f-9b18-45d6-a0fd-616a47be729b",
   "metadata": {},
   "outputs": [
    {
     "name": "stdout",
     "output_type": "stream",
     "text": [
      "[[[7, 1, 1.5, 4, 4], np.float64(-25809753744.206387), np.float64(1331162733.8079062), np.float64(-17163997.780070882)]]\n",
      "7.942007179461138\n",
      "0.6146041518043234\n"
     ]
    }
   ],
   "source": [
    "freq = 657932.608*1e9\n",
    "# wavelength = C_c / freq\n",
    "wavelength = 455.655e-9\n",
    "\n",
    "P = 0.01\n",
    "w = 25e-6\n",
    "q = 1\n",
    "\n",
    "state1 = [6,0,0.5,4,4]\n",
    "state2 = [6,0,0.5,3,3]\n",
    "\n",
    "U2_test, contrib2 = ac_stark(state2, wavelength, P, w, q, largest_contrib = 1)\n",
    "print(contrib2)\n",
    "# print(U2_test)\n",
    "\n",
    "#kinda hard...\n",
    "guess_P_w = (P, w)\n",
    "\n",
    "def extract_omega(dU, wavelength, guess_P_w):\n",
    "    # dU should be in rad/s\n",
    "    P, w = guess_P_w\n",
    "    U1_test, contrib1 = ac_stark(state1, wavelength, P, w, q, largest_contrib = 1)\n",
    "    U2_test, contrib2 = ac_stark(state2, wavelength, P, w, q, largest_contrib = 1)\n",
    "\n",
    "    delta_1 = contrib1[-1][1]\n",
    "    delta_2 = contrib2[-1][1]\n",
    "    \n",
    "    Omega_1 = contrib1[-1][2]\n",
    "    Omega_2 = contrib2[-1][2]\n",
    "\n",
    "    dU_test = U1_test - U2_test\n",
    "    print(dU_test*1e-6/(2*np.pi))\n",
    "\n",
    "    factor = np.sqrt(dU / dU_test)\n",
    "\n",
    "    return factor, factor * Omega_1, factor * Omega_2\n",
    "\n",
    "dU = 3e6*2*np.pi\n",
    "factor, _, _, = extract_omega(dU, wavelength, guess_P_w)\n",
    "print(factor)"
   ]
  },
  {
   "cell_type": "markdown",
   "id": "d5bb901a-129e-42bf-b50f-7340beffc3c4",
   "metadata": {},
   "source": [
    "## Detuning and Rabi Frequency Testing"
   ]
  },
  {
   "cell_type": "code",
   "execution_count": 332,
   "id": "5b080e0e-0ffd-49c2-bc06-c17f73c397b8",
   "metadata": {},
   "outputs": [
    {
     "name": "stdout",
     "output_type": "stream",
     "text": [
      "455.6583065723351\n"
     ]
    },
    {
     "data": {
      "text/plain": [
       "np.float64(77805.58868865094)"
      ]
     },
     "execution_count": 332,
     "metadata": {},
     "output_type": "execute_result"
    }
   ],
   "source": [
    "state_e = [7,0,1/2,4,4]\n",
    "state_g = [6,1,3/2,5,5]\n",
    "\n",
    "wavelength = C_c / (657932.608*1e9)\n",
    "print(wavelength*1e9)\n",
    "\n",
    "wavelength = 1064*1e-9\n",
    "\n",
    "Delta(state_g, state_e, wavelength) * 1e-9 / (2*np.pi)"
   ]
  },
  {
   "cell_type": "code",
   "execution_count": null,
   "id": "160e117a-7317-47d4-bb30-111a9644f867",
   "metadata": {},
   "outputs": [],
   "source": []
  },
  {
   "cell_type": "code",
   "execution_count": 175,
   "id": "94d3c8da-c828-4b7e-8ae1-c10972e0aaa8",
   "metadata": {},
   "outputs": [
    {
     "name": "stdout",
     "output_type": "stream",
     "text": [
      "103.79033254715002 -83.97551587411672\n",
      "-1.320582836120159\n",
      "0.001905609071116621 0.0012474563713434266\n"
     ]
    }
   ],
   "source": [
    "P_c= 100e-3\n",
    "w_c = 25e-6\n",
    "P_p = 1e-3\n",
    "w_p = 25e-6\n",
    "\n",
    "Delta = 3.3e9\n",
    "\n",
    "state_r = [41,0,1/2,4,4]\n",
    "state_e = [7,1,3/2,5,5]\n",
    "state_g = [6,0,1/2,4,4]\n",
    "\n",
    "\n",
    "OmC = Omega(state_e, state_r, P_c, w_c, -1) * 1e-6 / (2*np.pi)\n",
    "OmP = Omega(state_g, state_e, P_p, w_p, 1) * 1e-6 / (2*np.pi)\n",
    "OmR = OmC * OmP / (2*(Delta * 1e-6))\n",
    "\n",
    "Pop_e_p = 0.5 * (OmP**2) / (2 * (Delta * 1e-6) ** 2)\n",
    "Pop_e_c = 0.5 * (OmC**2) / (2 * (Delta * 1e-6) ** 2)\n",
    "Gamma = 1.0 / cs.getStateLifetime(state_e[0], state_e[1], state_e[2])\n",
    "\n",
    "print(OmP, OmC)\n",
    "print(OmR)\n",
    "print(Pop_e_p * Gamma * 1e-6, Pop_e_c * Gamma * 1e-6)"
   ]
  },
  {
   "cell_type": "code",
   "execution_count": null,
   "id": "3f9acc11-5c11-4ce1-9ef8-c19816a3d174",
   "metadata": {},
   "outputs": [],
   "source": []
  },
  {
   "cell_type": "code",
   "execution_count": 673,
   "id": "415565e9-f10e-4f4e-8fd9-b90ce1d17b04",
   "metadata": {},
   "outputs": [
    {
     "data": {
      "text/plain": [
       "np.float64(424.5321825597565)"
      ]
     },
     "execution_count": 673,
     "metadata": {},
     "output_type": "execute_result"
    }
   ],
   "source": [
    "P = 30e-3\n",
    "w = 3.4e-6\n",
    "state2 = [61,2,1.5,3,3]\n",
    "state1 = [61,1,0.5,2,2]\n",
    "\n",
    "Omega(state1, state2, P, w, 1) * 1e-9 / (2*np.pi)"
   ]
  },
  {
   "cell_type": "code",
   "execution_count": 380,
   "id": "930ff459-f0b7-4d18-b93f-756b70d61d71",
   "metadata": {},
   "outputs": [
    {
     "name": "stdout",
     "output_type": "stream",
     "text": [
      "36313.14094706942\n",
      "28052.442469757138\n"
     ]
    }
   ],
   "source": [
    "P = 1\n",
    "w = 25e-6\n",
    "state1 = [6,1,3/2,5,5]\n",
    "\n",
    "state2 = [7,0,1/2,4,4]\n",
    "print(Omega(state1, state2, P, w, -1) * 1e-6 / (2*np.pi))\n",
    "\n",
    "state2 = [6,2,5/2,6,6]\n",
    "print(Omega(state1, state2, P, w, 1) * 1e-6 / (2*np.pi))"
   ]
  },
  {
   "cell_type": "code",
   "execution_count": 975,
   "id": "028b0a78-5050-4c68-85f8-944f5d3125bb",
   "metadata": {},
   "outputs": [
    {
     "data": {
      "text/plain": [
       "np.float64(103.79033254715002)"
      ]
     },
     "execution_count": 975,
     "metadata": {},
     "output_type": "execute_result"
    }
   ],
   "source": [
    "P = 1e-3\n",
    "w = 25e-6\n",
    "state2 = [7,1,3/2,5,5]\n",
    "state1 = [6,0,1/2,4,4]\n",
    "\n",
    "Omega(state1, state2, P, w, 1) * 1e-6 / (2*np.pi)"
   ]
  },
  {
   "cell_type": "code",
   "execution_count": 455,
   "id": "2b40cbf1-c14b-408f-834a-00af2824f096",
   "metadata": {},
   "outputs": [
    {
     "name": "stdout",
     "output_type": "stream",
     "text": [
      "-0.0\n",
      "433.64769929284085\n"
     ]
    }
   ],
   "source": [
    "P = 1\n",
    "w = 25e-6\n",
    "q = -1\n",
    "state2 = [41,0,1/2,-1/2]\n",
    "state1 = [7,1,3/2,5,5]\n",
    "omega = Omega(state1, state2, P, w, q) * 1e-6 / (2*np.pi)\n",
    "print(omega)\n",
    "\n",
    "Omega_squared = 0\n",
    "for i in range(-5, 6, 1):\n",
    "    state1 = [7,1,3/2,5,i]\n",
    "    Omega_squared += (Omega(state1, state2, P, w, q) * 1e-6 / (2*np.pi))**2\n",
    "\n",
    "for i in range(-4, 5, 1):\n",
    "    state1 = [7,1,3/2,4,i]\n",
    "    Omega_squared += (Omega(state1, state2, P, w, q) * 1e-6 / (2*np.pi))**2\n",
    "\n",
    "for i in range(-3, 4, 1):\n",
    "    state1 = [7,1,3/2,3,i]\n",
    "    Omega_squared += (Omega(state1, state2, P, w, q) * 1e-6 / (2*np.pi))**2\n",
    "\n",
    "for i in range(-2, 3, 1):\n",
    "    state1 = [7,1,3/2,2,i]\n",
    "    Omega_squared += (Omega(state1, state2, P, w, q) * 1e-6 / (2*np.pi))**2\n",
    "\n",
    "print(np.sqrt(Omega_squared))"
   ]
  },
  {
   "cell_type": "code",
   "execution_count": null,
   "id": "f4725bc4-2a97-4c14-abed-6d42b71caef0",
   "metadata": {},
   "outputs": [],
   "source": []
  }
 ],
 "metadata": {
  "kernelspec": {
   "display_name": "Python 3 (ipykernel)",
   "language": "python",
   "name": "python3"
  },
  "language_info": {
   "codemirror_mode": {
    "name": "ipython",
    "version": 3
   },
   "file_extension": ".py",
   "mimetype": "text/x-python",
   "name": "python",
   "nbconvert_exporter": "python",
   "pygments_lexer": "ipython3",
   "version": "3.12.8"
  }
 },
 "nbformat": 4,
 "nbformat_minor": 5
}
