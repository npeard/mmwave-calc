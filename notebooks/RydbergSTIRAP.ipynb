{
 "cells": [
  {
   "cell_type": "code",
   "execution_count": null,
   "id": "255cc2c9-5d37-45c2-b009-879bb1ad920c",
   "metadata": {},
   "outputs": [],
   "source": [
    "import sys\n",
    "sys.path.append('../')\n",
    "%load_ext autotime\n",
    "import numpy as np"
   ]
  },
  {
   "cell_type": "code",
   "execution_count": null,
   "id": "bf1fb737-45fa-4d8d-90f9-5db951fe52ab",
   "metadata": {},
   "outputs": [],
   "source": [
    "import matplotlib.pyplot as plt\n",
    "from matplotlib.colors import LogNorm"
   ]
  },
  {
   "cell_type": "code",
   "execution_count": null,
   "id": "4989d92b-bf38-40a7-ba4f-3c452f0ee492",
   "metadata": {},
   "outputs": [],
   "source": [
    "import plotters.plot_rydberg_dynamics as rydnamics"
   ]
  },
  {
   "cell_type": "code",
   "execution_count": null,
   "id": "58e5409b-148e-4208-b105-7a7e13c23bcf",
   "metadata": {},
   "outputs": [],
   "source": [
    "# Test run Lindblad solver\n",
    "rydnamics.plot_lindblad_dynamics()"
   ]
  },
  {
   "cell_type": "markdown",
   "id": "28dee008-400a-4049-b6f2-c9e8b242897c",
   "metadata": {},
   "source": [
    "# On-Resonance Excitation to Rydberg State\n",
    "We want to evaluate:\n",
    "1. With CW coupling light (1064nm) to the Rydberg state, does selecting a fast probe pulse allow $\\pi$ pulses to the Rydberg state with minimal loss? If so, we could potential get larger Rabi rates with less power due to the fact that we are not detuned (as long as the loss is low).\n",
    "2. The on-resonance CW coupling light should make the loss very large. Therefore, we need to think about pulsing the coupling light to turn off the coupling back to the excited state and shut off the loss. We can use either a \"conventional\" pulse scheme or a STIRAP pulse scheme. Which one is better? Seeking less laser power, lower loss, high Rabi rate."
   ]
  },
  {
   "cell_type": "markdown",
   "id": "38c0d0cd-cb49-4d4d-a9a3-400d808fc22a",
   "metadata": {},
   "source": [
    "## Pi Pulse Times"
   ]
  },
  {
   "cell_type": "code",
   "execution_count": null,
   "id": "7718acbb-b933-4f9f-bca0-d97ef033a733",
   "metadata": {},
   "outputs": [],
   "source": [
    "import models.rydberg_calcs as ryd\n",
    "transition47 = ryd.RydbergTransition(laserWaist=25e-6, n1=6, l1=0, j1=0.5,\n",
    "                 mj1=0.5, n2=7, l2=1, j2=1.5, mj2=1.5, n3=47, l3=2, j3=2.5)\n",
    "\n",
    "transition47.print_laser_frequencies(Pp=0.01, Pc=2)"
   ]
  },
  {
   "cell_type": "code",
   "execution_count": null,
   "id": "babb8078-422e-49f7-b4e3-d3d248664e4b",
   "metadata": {},
   "outputs": [],
   "source": [
    "coupling_powers = np.linspace(0.1, 10, 25)\n",
    "probe_peak_powers = np.linspace(1e-3, 100e-3, 25)"
   ]
  },
  {
   "cell_type": "code",
   "execution_count": null,
   "id": "6670248d-2f17-461b-ac29-d46b9de770f2",
   "metadata": {},
   "outputs": [],
   "source": [
    "max_pi_time = transition47.get_pi_pulse_duration(probe_peak_powers[0], coupling_powers[0], resonance=False)\n",
    "min_pi_time = transition47.get_pi_pulse_duration(probe_peak_powers[-1], coupling_powers[-1], resonance=False)\n",
    "print(\"Maximum pi pulse time (ns): \", max_pi_time*1e9)\n",
    "print(\"Minimum pi pulse time (ns): \", min_pi_time*1e9)"
   ]
  },
  {
   "cell_type": "code",
   "execution_count": null,
   "id": "57356ea3-be79-4f49-866d-64dc40ae6f4a",
   "metadata": {},
   "outputs": [],
   "source": [
    "max_pi_time = transition47.get_pi_pulse_duration(probe_peak_powers[0], coupling_powers[0], resonance=True)\n",
    "min_pi_time = transition47.get_pi_pulse_duration(probe_peak_powers[-1], coupling_powers[-1], resonance=True)\n",
    "print(\"Maximum pi pulse time (ns): \", max_pi_time*1e9)\n",
    "print(\"Minimum pi pulse time (ns): \", min_pi_time*1e9)"
   ]
  },
  {
   "cell_type": "code",
   "execution_count": null,
   "id": "259de057-1393-4b45-9500-fa46958f0b40",
   "metadata": {},
   "outputs": [],
   "source": [
    "pi_time_opt = []\n",
    "pi_time_resonant = []\n",
    "for Pc in coupling_powers:\n",
    "    for Pp in probe_peak_powers:\n",
    "        pi_time_opt.append(transition47.get_pi_pulse_duration(Pp, Pc, resonance=False))\n",
    "        pi_time_resonant.append(transition47.get_pi_pulse_duration(Pp, Pc, resonance=True))\n",
    "pi_time_opt = np.reshape(pi_time_opt, (len(coupling_powers), len(probe_peak_powers)))\n",
    "pi_time_resonant = np.reshape(pi_time_resonant, (len(coupling_powers), len(probe_peak_powers)))"
   ]
  },
  {
   "cell_type": "code",
   "execution_count": null,
   "id": "b7ce0b41-8613-47e5-955e-9e1a79b5af7d",
   "metadata": {},
   "outputs": [],
   "source": [
    "fig, (ax1, ax2) = plt.subplots(ncols=2)\n",
    "s1 = ax1.imshow(pi_time_opt*1e9, aspect='auto', origin=\"lower\", norm=LogNorm(vmin=0.1),\n",
    "                extent=[np.min(probe_peak_powers), np.max(probe_peak_powers),\n",
    "                        np.min(coupling_powers), np.max(coupling_powers)])\n",
    "cbar = fig.colorbar(s1, ax=ax1)\n",
    "cbar.set_label(r'Optimal Pi Time (ns)')\n",
    "ax1.set_xlabel(r'456nm Peak Power (W)')\n",
    "ax1.set_ylabel(r'1064nm Power (W)')\n",
    "\n",
    "s2 = ax2.imshow(pi_time_resonant * 1e9, aspect='auto', origin=\"lower\", norm=LogNorm(vmin=0.1),\n",
    "                extent=[np.min(probe_peak_powers), np.max(probe_peak_powers),\n",
    "                        np.min(coupling_powers), np.max(coupling_powers)])\n",
    "cbar = fig.colorbar(s2, ax=ax2)\n",
    "cbar.set_label(r'Resonant Pi Time (ns)')\n",
    "ax2.set_xlabel(r'456nm Peak Power (W)')\n",
    "ax2.set_ylabel(r'1064nm Power (W)')\n",
    "\n",
    "plt.tight_layout()\n",
    "plt.show()"
   ]
  },
  {
   "cell_type": "markdown",
   "id": "c6d506fc-04b9-4835-bc33-ebb28ef4515c",
   "metadata": {},
   "source": [
    "Given a desired pi time, what detunings are accessible?"
   ]
  },
  {
   "cell_type": "code",
   "execution_count": null,
   "id": "79f19793-39a0-468c-9abe-7f91424dc92a",
   "metadata": {},
   "outputs": [],
   "source": [
    "detuning_1 = []\n",
    "detuning_2 = []\n",
    "for Pc in coupling_powers:\n",
    "    for Pp in probe_peak_powers:\n",
    "        detuning_1.append(transition47.get_pi_detuning(probe_power=Pp, couple_power=Pc, pi_time=1e-9))\n",
    "        detuning_2.append(transition47.get_pi_detuning(probe_power=Pp, couple_power=Pc, pi_time=10e-9))\n",
    "detuning_1 = np.reshape(detuning_1, (len(coupling_powers), len(probe_peak_powers)))\n",
    "detuning_2 = np.reshape(detuning_2, (len(coupling_powers), len(probe_peak_powers)))"
   ]
  },
  {
   "cell_type": "code",
   "execution_count": null,
   "id": "0dfc01f2-fa23-419b-91a8-d5df171ca4fa",
   "metadata": {},
   "outputs": [],
   "source": [
    "fig, (ax1, ax2) = plt.subplots(ncols=2)\n",
    "s1 = ax1.imshow(detuning_1/(2*np.pi)*1e-6, aspect='auto', origin=\"lower\", norm=LogNorm(vmax=5e3),\n",
    "                extent=[np.min(probe_peak_powers), np.max(probe_peak_powers),\n",
    "                        np.min(coupling_powers), np.max(coupling_powers)])\n",
    "ax1.plot(probe_peak_powers, transition47.get_balanced_laser_power(probe_power=probe_peak_powers))\n",
    "cbar = fig.colorbar(s1, ax=ax1)\n",
    "cbar.set_label(r'Detuning (2pi*MHz)')\n",
    "ax1.set_xlabel(r'456nm Peak Power (W)')\n",
    "ax1.set_ylabel(r'1064nm Power (W)')\n",
    "\n",
    "s2 = ax2.imshow(detuning_2/(2*np.pi)*1e-6, aspect='auto', origin=\"lower\", norm=LogNorm(vmax=5e3),\n",
    "                extent=[np.min(probe_peak_powers), np.max(probe_peak_powers),\n",
    "                        np.min(coupling_powers), np.max(coupling_powers)])\n",
    "ax2.plot(probe_peak_powers, transition47.get_balanced_laser_power(probe_power=probe_peak_powers))\n",
    "cbar = fig.colorbar(s2, ax=ax2)\n",
    "cbar.set_label(r'Detuning (2pi*MHz)')\n",
    "ax2.set_xlabel(r'456nm Peak Power (W)')\n",
    "ax2.set_ylabel(r'1064nm Power (W)')\n",
    "\n",
    "plt.tight_layout()\n",
    "plt.show()"
   ]
  },
  {
   "cell_type": "markdown",
   "id": "5dc3b7e3-6ca8-40ff-84fb-a23a087e9dd1",
   "metadata": {},
   "source": [
    "## Fast Probe, CW Coupling"
   ]
  },
  {
   "cell_type": "code",
   "execution_count": null,
   "id": "7dbbcf5e-a054-4ce4-860d-1d85ed8eaeab",
   "metadata": {},
   "outputs": [],
   "source": [
    "coupling_powers = np.linspace(0.001, 0.5, 20)\n",
    "probe_peak_power = np.linspace(0.001, 0.01, 20)\n",
    "rydnamics.plot_lindblad_fast_probe(coupling_powers=coupling_powers,\n",
    "\t\t\t\t\t\t\t\t\t   probe_peak_power=probe_peak_power)"
   ]
  },
  {
   "cell_type": "markdown",
   "id": "fa1a9f34-3a76-4f21-9d4b-2a76bb4bc2a4",
   "metadata": {},
   "source": [
    "## Conventional Pulse Scheme"
   ]
  },
  {
   "cell_type": "code",
   "execution_count": null,
   "id": "085e718b-a62f-4aa8-a698-cc3201baa70c",
   "metadata": {},
   "outputs": [],
   "source": [
    "rydnamics.plot_duo_pulse(probe_duration=0, probe_delay=10e-9, probe_hold=20e-9,\n",
    "        probe_peak_power=10e-3, couple_duration=0, couple_delay=15e-9,\n",
    "        couple_hold=20e-9, couple_peak_power=4,\n",
    "        Delta=0.0)"
   ]
  },
  {
   "cell_type": "code",
   "execution_count": null,
   "id": "641f768a-dd18-4654-a51d-9f9cfba7ca9e",
   "metadata": {},
   "outputs": [],
   "source": [
    "probe_delays = np.linspace(0, 50e-9, 20)\n",
    "couple_delays = np.linspace(0, 50e-9, 20)\n",
    "rydnamics.plot_lindblad_duo_pulse(probe_delays=probe_delays,\n",
    "                            couple_delays=couple_delays,\n",
    "                            probe_peak_power=20e-3, couple_peak_power=5)"
   ]
  },
  {
   "cell_type": "markdown",
   "id": "f52fdf15-c2c6-45e3-bcfd-940aaaa49311",
   "metadata": {},
   "source": [
    "## STIRAP Pulse Scheme"
   ]
  },
  {
   "cell_type": "code",
   "execution_count": null,
   "id": "a021d852-e4ef-4420-8745-921816cdd203",
   "metadata": {},
   "outputs": [],
   "source": []
  }
 ],
 "metadata": {
  "language_info": {
   "name": "python"
  }
 },
 "nbformat": 4,
 "nbformat_minor": 5
}
