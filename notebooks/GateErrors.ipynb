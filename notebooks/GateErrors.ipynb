{
 "cells": [
  {
   "cell_type": "code",
   "execution_count": null,
   "id": "fb6fe827-3aa6-4665-b650-fee7489d8c37",
   "metadata": {},
   "outputs": [],
   "source": [
    "import sys\n",
    "sys.path.append('../')\n",
    "%load_ext autotime"
   ]
  },
  {
   "cell_type": "code",
   "execution_count": null,
   "id": "1323439b-b0ad-4709-acda-47ab2fbf12c4",
   "metadata": {},
   "outputs": [],
   "source": [
    "import plotters.plot_gatefidelity as pgf"
   ]
  },
  {
   "cell_type": "markdown",
   "id": "77cd0c88-581b-4e41-968b-e6007a90f328",
   "metadata": {},
   "source": [
    "# Gate Error Model"
   ]
  },
  {
   "cell_type": "markdown",
   "id": "1fcbaad9-9275-4fc4-a870-c4a36d26abe4",
   "metadata": {},
   "source": [
    "Jiang, X., Scott, J., Friesen, M. & Saffman, M. Sensitivity of quantum gate fidelity to laser phase and intensity noise. Phys. Rev. A 107, 042611 (2023).\n",
    "\n",
    "Note: This paper assumes perfectly-shaped square pulses... not really realistic."
   ]
  },
  {
   "cell_type": "markdown",
   "id": "4536aed0-6c00-4f4c-9c07-59faa02d8bf5",
   "metadata": {},
   "source": [
    "A laser with phase white noise has a power spectrum of the electric field $E$ of $S_E(f) = \\frac{|{E_0}|^2}{2} \\frac{h_0}{f^2 + (\\pi h_0)^2} $ for which $ \\text{FWHM} = 2\\pi h_0$ where $h_0$ is the \"noise amplitude\" in units of $\\text{Hz}^2/\\text{Hz}$.\n",
    "\n",
    "The $\\pi N$ gate error is then $ \\varepsilon = \\frac{\\pi^3 (h_1+h_2) N}{\\Omega_0}$ where $\\Omega_0 = \\Omega_1 \\Omega_2 /(2 \\Delta) $ is the two-photon Rabi frequency and $\\Delta$ is the red detuning from the 7p level."
   ]
  },
  {
   "cell_type": "code",
   "execution_count": null,
   "id": "2fca8ea5-0a37-42fb-819f-c086fae4a491",
   "metadata": {},
   "outputs": [],
   "source": [
    "pgf.plot_whiteGateError()"
   ]
  },
  {
   "cell_type": "markdown",
   "id": "10aa9380-8da3-4ffd-8fd5-3d2a75f02448",
   "metadata": {},
   "source": [
    "The $\\pi N$ gate error for servo bumps with dimensionless phase noise power (integral of servo bump power spectrum) $s_g$ and frequency $f_g$ is then $ \\epsilon = 2 s_g (\\pi f_g \\Omega_0)^2 \\frac{1-(-1)^{2N} \\cos(4\\pi^2 N f_g/\\Omega_0)}{(\\Omega_0^2 - 4\\pi^2f_g^2)^2} $\n",
    "\n",
    "Note that the gate error is maximal when the servo bump frequency is equal to the two-photon Rabi frequency."
   ]
  },
  {
   "cell_type": "code",
   "execution_count": null,
   "id": "2eaddbcb-e2c5-4e4a-998d-9b99b65bbedf",
   "metadata": {},
   "outputs": [],
   "source": [
    "pgf.plot_servoGateError_Rabi()"
   ]
  },
  {
   "cell_type": "code",
   "execution_count": null,
   "id": "98c95797-611c-4e4d-a852-66ec259179e3",
   "metadata": {},
   "outputs": [],
   "source": [
    "pgf.plot_servoGateError_Power()"
   ]
  },
  {
   "cell_type": "markdown",
   "id": "c35addeb-18b4-40ef-bd6e-30fda09f5e3d",
   "metadata": {},
   "source": [
    "To calculate the gate error due to intensity noise (tilted Rabi rotation axis) we want to know the variance $\\sigma_{I}^2$ of the relative intensity $\\alpha_I$ in $I(t) = I_0 (1+\\alpha_I(t)) $.\n",
    "\n",
    "The $\\pi N $ gate error is then calculated as $ \\epsilon = \\frac{\\pi^2 N^2 (\\sigma_{\\alpha_{I1}}^2 + \\sigma_{\\alpha_{I2}}^2)}{4} $"
   ]
  },
  {
   "cell_type": "code",
   "execution_count": null,
   "id": "bbeb2488-30e1-4b9a-b3b3-e7c94ea86684",
   "metadata": {},
   "outputs": [],
   "source": [
    "pgf.plot_intensityGateError()"
   ]
  }
 ],
 "metadata": {
  "language_info": {
   "name": "python"
  }
 },
 "nbformat": 4,
 "nbformat_minor": 5
}
