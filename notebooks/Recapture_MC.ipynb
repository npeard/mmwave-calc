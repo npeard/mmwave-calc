{
 "cells": [
  {
   "cell_type": "code",
   "execution_count": null,
   "metadata": {},
   "outputs": [],
   "source": [
    "import sys\n",
    "sys.path.append('../')\n",
    "%load_ext autotime"
   ]
  },
  {
   "cell_type": "code",
   "execution_count": null,
   "metadata": {},
   "outputs": [],
   "source": [
    "import models.recapture_monte_carlo as mc"
   ]
  },
  {
   "cell_type": "code",
   "execution_count": null,
   "metadata": {},
   "outputs": [],
   "source": [
    "mc.plot_recapture_rate()"
   ]
  },
  {
   "cell_type": "code",
   "execution_count": null,
   "metadata": {},
   "outputs": [],
   "source": [
    "system_temperature = 12e-6\n",
    "tweezer_power_percent_error = 0.0\n",
    "num_points = 10\n",
    "recap_times, recap_rate, tweezer_power = mc.get_simulated_recapture_data(50e-6, num_points, system_temperature)\n",
    "print(\"tweezer power = \", tweezer_power)\n",
    "mc.run_model(recap_times, recap_rate, tweezer_power + tweezer_power_percent_error*tweezer_power, quantify_error=True, true_T_ensemble=system_temperature)"
   ]
  },
  {
   "cell_type": "code",
   "execution_count": null,
   "metadata": {},
   "outputs": [],
   "source": [
    "system_temperature = 12e-6\n",
    "tweezer_power_percent_error = 0.0\n",
    "num_points = 40\n",
    "recap_times, recap_rate, tweezer_power = mc.get_simulated_recapture_data(50e-6, num_points, system_temperature)\n",
    "print(\"tweezer power = \", tweezer_power)\n",
    "mc.run_model(recap_times, recap_rate, tweezer_power + tweezer_power_percent_error*tweezer_power, quantify_error=True, true_T_ensemble=system_temperature)"
   ]
  },
  {
   "cell_type": "code",
   "execution_count": null,
   "metadata": {},
   "outputs": [],
   "source": [
    "system_temperature = 120e-6\n",
    "tweezer_power_percent_error = 0.0\n",
    "num_points = 40\n",
    "recap_times, recap_rate, tweezer_power = mc.get_simulated_recapture_data(50e-6, num_points, system_temperature)\n",
    "print(\"tweezer power = \", tweezer_power)\n",
    "mc.run_model(recap_times, recap_rate, tweezer_power + tweezer_power_percent_error*tweezer_power, quantify_error=True, true_T_ensemble=system_temperature)"
   ]
  },
  {
   "cell_type": "code",
   "execution_count": null,
   "metadata": {},
   "outputs": [],
   "source": [
    "system_temperature = 12e-6\n",
    "tweezer_power_percent_error = 0.1\n",
    "num_points = 40\n",
    "recap_times, recap_rate, tweezer_power = mc.get_simulated_recapture_data(50e-6, num_points, system_temperature)\n",
    "print(\"tweezer power = \", tweezer_power)\n",
    "mc.run_model(recap_times, recap_rate, tweezer_power + tweezer_power_percent_error*tweezer_power, quantify_error=True, true_T_ensemble=system_temperature)"
   ]
  },
  {
   "cell_type": "code",
   "execution_count": null,
   "metadata": {},
   "outputs": [],
   "source": [
    "system_temperature = 12e-6\n",
    "tweezer_power_percent_error = -0.1\n",
    "num_points = 40\n",
    "recap_times, recap_rate, tweezer_power = mc.get_simulated_recapture_data(50e-6, num_points, system_temperature)\n",
    "print(\"tweezer power = \", tweezer_power)\n",
    "mc.run_model(recap_times, recap_rate, tweezer_power + tweezer_power_percent_error*tweezer_power, quantify_error=True, true_T_ensemble=system_temperature)"
   ]
  }
 ],
 "metadata": {
  "language_info": {
   "name": "python"
  }
 },
 "nbformat": 4,
 "nbformat_minor": 4
}
