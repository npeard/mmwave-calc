{
 "cells": [
  {
   "cell_type": "code",
   "execution_count": null,
   "id": "6dd7919f-09a8-4f0d-9318-be466f693aa3",
   "metadata": {},
   "outputs": [],
   "source": [
    "import sys\n",
    "sys.path.append('../')\n",
    "%load_ext autotime\n",
    "import numpy as np"
   ]
  },
  {
   "cell_type": "code",
   "execution_count": null,
   "id": "094ce47b-e5e2-4ff0-b2b4-0cf34ed50768",
   "metadata": {},
   "outputs": [],
   "source": [
    "import plotters.plot_rydberg_dynamics as rydnamics"
   ]
  },
  {
   "cell_type": "code",
   "execution_count": null,
   "id": "c705aea7-e9e1-407a-9f72-c6b2e26d7f17",
   "metadata": {},
   "outputs": [],
   "source": [
    "import models.rydberg_calcs as ryd"
   ]
  },
  {
   "cell_type": "code",
   "execution_count": null,
   "id": "d479d6d6-e9a0-408b-9d79-d7f965e9c727",
   "metadata": {},
   "outputs": [],
   "source": [
    "probe_power = 20e-3"
   ]
  },
  {
   "cell_type": "code",
   "execution_count": null,
   "id": "0c6ce5b1-7077-4d15-a02e-27478f2cb709",
   "metadata": {},
   "outputs": [],
   "source": [
    "transition47 = ryd.RydbergTransition(laserWaist=25e-6, n1=6, l1=0, j1=0.5,\n",
    "                 mj1=0.5, f1=4, n2=7, l2=1, j2=1.5, mj2=1.5, f2=5, n3=47, l3=2, j3=2.5, mj3=1.5, f3=5)\n",
    "\n",
    "couple_power_balanced = transition47.get_balanced_laser_power(probe_power=probe_power)\n",
    "print(\"1064nm power should be \", couple_power_balanced*1e3, \" mW\")"
   ]
  },
  {
   "cell_type": "code",
   "execution_count": null,
   "id": "6823bbe2-28b3-4f06-9c88-fc1fbe86f575",
   "metadata": {},
   "outputs": [],
   "source": [
    "transition47.print_laser_frequencies(Pp=probe_power, Pc=couple_power_balanced)"
   ]
  },
  {
   "cell_type": "code",
   "execution_count": null,
   "id": "678dc72c-b13a-43e6-be8e-c91535716158",
   "metadata": {},
   "outputs": [],
   "source": [
    "transition40 = ryd.RydbergTransition(laserWaist=25e-6, n1=6, l1=0, j1=0.5,\n",
    "                 mj1=0.5, n2=7, l2=1, j2=1.5, mj2=1.5, q2=-1, n3=40, l3=0, j3=0.5)\n",
    "\n",
    "couple_power_balanced = transition40.get_balanced_laser_power(probe_power=probe_power)\n",
    "print(\"1064nm power should be \", couple_power_balanced*1e3, \" mW\")"
   ]
  },
  {
   "cell_type": "code",
   "execution_count": null,
   "id": "b0a41ce7-8c1e-4fc0-a87a-61f971bf5378",
   "metadata": {},
   "outputs": [],
   "source": [
    "transition40.print_laser_frequencies(Pp=probe_power, Pc=couple_power_balanced)"
   ]
  },
  {
   "cell_type": "code",
   "execution_count": null,
   "id": "e2bb7ad7-e1c4-4acd-a5ed-bb544b46ea3b",
   "metadata": {},
   "outputs": [],
   "source": [
    "transition41 = ryd.RydbergTransition(laserWaist=25e-6, n1=6, l1=0, j1=0.5,\n",
    "                 mj1=0.5, n2=7, l2=1, j2=1.5, mj2=1.5, f2=5, q2=-1, n3=41, l3=0, j3=0.5, mj3=0.5, f3=4)\n",
    "\n",
    "couple_power_balanced = transition41.get_balanced_laser_power(probe_power=probe_power)\n",
    "print(\"1064nm power should be \", couple_power_balanced*1e3, \" mW\")"
   ]
  },
  {
   "cell_type": "code",
   "execution_count": null,
   "id": "6bfa4b9d-a35c-442e-a581-f27d121d798e",
   "metadata": {},
   "outputs": [],
   "source": [
    "transition41.print_laser_frequencies(Pp=probe_power, Pc=couple_power_balanced)"
   ]
  },
  {
   "cell_type": "code",
   "execution_count": null,
   "id": "b1bfa293-6530-46af-a16d-6b0acde113f9",
   "metadata": {},
   "outputs": [],
   "source": [
    "transition41.print_saturation_powers()"
   ]
  },
  {
   "cell_type": "markdown",
   "id": "1454e017-a59c-40e6-98cd-0e8f2b282e68",
   "metadata": {},
   "source": [
    "# State Dynamics"
   ]
  },
  {
   "cell_type": "markdown",
   "id": "789b7886-b5c2-40a5-94a7-0709aeeebf41",
   "metadata": {},
   "source": [
    "Important note: To account for the detuning from resonance by the AC Stark shift, to first order, we set $\\delta = \\frac{\\Omega_{23}^2}{4\\Delta}$ to obtain much better conversion to the Rydberg state at the optimal detuning $\\Delta > 0$."
   ]
  },
  {
   "cell_type": "markdown",
   "id": "731add4e-7c3e-4492-b0a7-796892fdbe6d",
   "metadata": {},
   "source": [
    "Test self-consistency of state evolution, von Neumann solver, and full Lindblad solver"
   ]
  },
  {
   "cell_type": "code",
   "execution_count": null,
   "id": "3d58490e-4eda-44f4-bc38-7b1807c0bec6",
   "metadata": {},
   "outputs": [],
   "source": [
    "rydnamics.plot_state_dynamics()"
   ]
  },
  {
   "cell_type": "code",
   "execution_count": null,
   "id": "ba0a950e-47db-4243-83bf-bc3ed71d2f39",
   "metadata": {},
   "outputs": [],
   "source": [
    "rydnamics.plot_rho_dynamics()"
   ]
  },
  {
   "cell_type": "markdown",
   "id": "e5fac838-3ec0-47da-a792-32d998f8d250",
   "metadata": {},
   "source": [
    "At \"optimal\" detuning, do pi pulse durations match those calculated from theory as we change the 456nm peak power?"
   ]
  },
  {
   "cell_type": "code",
   "execution_count": null,
   "id": "e1b2bea7-75da-4b44-a778-446cb2daa6d4",
   "metadata": {},
   "outputs": [],
   "source": [
    "rydnamics.plot_state_hold_vs_probe_power()"
   ]
  },
  {
   "cell_type": "code",
   "execution_count": null,
   "id": "73836145-5cb2-4954-a705-047ec0e20d4b",
   "metadata": {},
   "outputs": [],
   "source": [
    "rydnamics.plot_state_power_vs_power_fixed_pi()"
   ]
  },
  {
   "cell_type": "markdown",
   "id": "36ab161f-e9a6-4089-a9c4-3d49122ec302",
   "metadata": {},
   "source": [
    "Observe how the Rydberg conversion efficiency decreases as the laser powers move away from the point where the pi pulse duration was calculated (indicated by the X)."
   ]
  },
  {
   "cell_type": "markdown",
   "id": "f0e8563f-9723-4bb3-8c42-27ff9cf15704",
   "metadata": {},
   "source": [
    "We have a lot more spare 1064nm power to play with than 456nm power (to keep the Rabi frequencies balanced). Let's see how mismatched the laser powers have to be before our \"optimal\" detuning is no longer close to optimal for a perfect (square) pi pulse at a fixed 456nm peak power."
   ]
  },
  {
   "cell_type": "code",
   "execution_count": null,
   "id": "439788ec-ac27-46bf-8312-a0c09008bad8",
   "metadata": {},
   "outputs": [],
   "source": [
    "coupling_powers = np.linspace(0.1, 5, 25)\n",
    "detunings = np.linspace(2 * np.pi * 1e9, 2 * np.pi * 10e9, 25)\n",
    "probe_peak_power = 5e-3\n",
    "rydnamics.plot_state_couple_power_vs_detune(coupling_powers=coupling_powers, detunings=detunings,\n",
    "\t\t\t\t\t\t\t\t\t   probe_peak_power=probe_peak_power, duration=0)"
   ]
  },
  {
   "cell_type": "markdown",
   "id": "e4983025-7245-405e-8ab9-1e725e34433b",
   "metadata": {},
   "source": [
    "What if we allow a finite turn on time? Since the pulse area is no longer equal to that of a pi pulse, there will be a shift of the proper detuning from \"optimal\". This illustrates how it is important to characterize AOM turn on/off times."
   ]
  },
  {
   "cell_type": "code",
   "execution_count": null,
   "id": "060fa60c-7a62-4f21-8570-d2200eb5b4c5",
   "metadata": {},
   "outputs": [],
   "source": [
    "coupling_powers = np.linspace(0.1, 5, 25)\n",
    "detunings = np.linspace(2 * np.pi * 1e9, 2 * np.pi * 10e9, 25)\n",
    "probe_peak_power = 5e-3\n",
    "rydnamics.plot_state_couple_power_vs_detune(coupling_powers=coupling_powers, detunings=detunings,\n",
    "\t\t\t\t\t\t\t\t\t   probe_peak_power=probe_peak_power, duration=50e-9)"
   ]
  },
  {
   "cell_type": "markdown",
   "id": "0f3135d6-e5fd-475f-8dc2-304c0599ab51",
   "metadata": {},
   "source": [
    "## Lindblad Master Equation\n",
    "\n",
    "Now, let's add in the loss. We add in the jump operators to a fourth, heuristic loss channel."
   ]
  },
  {
   "cell_type": "code",
   "execution_count": null,
   "id": "9584b0d6-c8e1-4efd-a8a9-e92490fbcb46",
   "metadata": {},
   "outputs": [],
   "source": [
    "rydnamics.plot_lindblad_dynamics()"
   ]
  },
  {
   "cell_type": "markdown",
   "id": "465fb14e-f2d9-414d-9e08-031b68b8533e",
   "metadata": {},
   "source": [
    "Let's see how including the loss affects the choice of detuning with a perfect pi pulse at the \"optimal\" detuning."
   ]
  },
  {
   "cell_type": "code",
   "execution_count": null,
   "id": "dc808553-062a-45b5-b45e-8339b890f93d",
   "metadata": {},
   "outputs": [],
   "source": [
    "coupling_powers = np.linspace(0.1, 10, 35)\n",
    "detunings = np.linspace(2 * np.pi * 1e5, 2 * np.pi * 1e10, 35)\n",
    "probe_peak_power = 40e-3\n",
    "rydnamics.plot_lindblad_couple_power_vs_detune(coupling_powers=coupling_powers, detunings=detunings,\n",
    "\t\t\t\t\t\t\t\t\t   probe_peak_power=probe_peak_power)"
   ]
  },
  {
   "cell_type": "code",
   "execution_count": null,
   "id": "3c858f24-33a2-42f9-b2eb-97714d08903b",
   "metadata": {},
   "outputs": [],
   "source": []
  }
 ],
 "metadata": {
  "language_info": {
   "name": "python"
  }
 },
 "nbformat": 4,
 "nbformat_minor": 5
}
